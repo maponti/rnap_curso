{
  "cells": [
    {
      "cell_type": "markdown",
      "metadata": {
        "id": "0s3VctUxN12i"
      },
      "source": [
        "<h2> Redes Neurais e Aprendizado Profundo <h2>\n",
        "\n",
        "- Camada Residual estilo ResNet (Residual Networks)\n",
        "  - ResNet com Bloco de Identidade\n",
        "  - ResNet com blocos Convolucionais para Redimensionamento\n"
      ]
    },
    {
      "cell_type": "markdown",
      "metadata": {
        "id": "e-Udq4_LgxXV"
      },
      "source": [
        "## Parte 0 - Bibliotecas e Dataset"
      ]
    },
    {
      "cell_type": "code",
      "execution_count": null,
      "metadata": {
        "id": "NueDE3UuN12n"
      },
      "outputs": [],
      "source": [
        "import time\n",
        "import numpy as np\n",
        "import torch\n",
        "import torch.nn as nn\n",
        "import torch.nn.functional as F\n",
        "from torch import optim\n",
        "\n",
        "from torch.utils.data import DataLoader\n",
        "from torchvision import datasets\n",
        "from torchvision import transforms"
      ]
    },
    {
      "cell_type": "code",
      "execution_count": null,
      "metadata": {
        "id": "pZOwB1ffN12p",
        "outputId": "e97bd433-90de-456c-fa53-572431762997"
      },
      "outputs": [
        {
          "name": "stdout",
          "output_type": "stream",
          "text": [
            "Downloading http://yann.lecun.com/exdb/mnist/train-images-idx3-ubyte.gz\n",
            "Downloading http://yann.lecun.com/exdb/mnist/train-images-idx3-ubyte.gz to ./MNIST/raw/train-images-idx3-ubyte.gz\n"
          ]
        },
        {
          "name": "stderr",
          "output_type": "stream",
          "text": [
            "100%|██████████| 9912422/9912422 [00:00<00:00, 67123314.67it/s]\n"
          ]
        },
        {
          "name": "stdout",
          "output_type": "stream",
          "text": [
            "Extracting ./MNIST/raw/train-images-idx3-ubyte.gz to ./MNIST/raw\n",
            "\n",
            "Downloading http://yann.lecun.com/exdb/mnist/train-labels-idx1-ubyte.gz\n",
            "Downloading http://yann.lecun.com/exdb/mnist/train-labels-idx1-ubyte.gz to ./MNIST/raw/train-labels-idx1-ubyte.gz\n"
          ]
        },
        {
          "name": "stderr",
          "output_type": "stream",
          "text": [
            "100%|██████████| 28881/28881 [00:00<00:00, 161514258.43it/s]\n"
          ]
        },
        {
          "name": "stdout",
          "output_type": "stream",
          "text": [
            "Extracting ./MNIST/raw/train-labels-idx1-ubyte.gz to ./MNIST/raw\n",
            "\n",
            "Downloading http://yann.lecun.com/exdb/mnist/t10k-images-idx3-ubyte.gz\n",
            "Downloading http://yann.lecun.com/exdb/mnist/t10k-images-idx3-ubyte.gz to ./MNIST/raw/t10k-images-idx3-ubyte.gz\n"
          ]
        },
        {
          "name": "stderr",
          "output_type": "stream",
          "text": [
            "100%|██████████| 1648877/1648877 [00:06<00:00, 265680.65it/s]\n"
          ]
        },
        {
          "name": "stdout",
          "output_type": "stream",
          "text": [
            "Extracting ./MNIST/raw/t10k-images-idx3-ubyte.gz to ./MNIST/raw\n",
            "\n",
            "Downloading http://yann.lecun.com/exdb/mnist/t10k-labels-idx1-ubyte.gz\n",
            "Downloading http://yann.lecun.com/exdb/mnist/t10k-labels-idx1-ubyte.gz to ./MNIST/raw/t10k-labels-idx1-ubyte.gz\n"
          ]
        },
        {
          "name": "stderr",
          "output_type": "stream",
          "text": [
            "100%|██████████| 4542/4542 [00:00<00:00, 29859762.96it/s]"
          ]
        },
        {
          "name": "stdout",
          "output_type": "stream",
          "text": [
            "Extracting ./MNIST/raw/t10k-labels-idx1-ubyte.gz to ./MNIST/raw\n",
            "\n"
          ]
        },
        {
          "name": "stderr",
          "output_type": "stream",
          "text": [
            "\n"
          ]
        }
      ],
      "source": [
        "#Padronizando sememente aleatória\n",
        "torch.manual_seed(123)\n",
        "\n",
        "#Device\n",
        "device = torch.device('cuda') if torch.cuda.is_available else torch.device('cpu')\n",
        "device\n",
        "\n",
        "#Transformando dados para o tensor\n",
        "transform = transforms.ToTensor()\n",
        "\n",
        "#Conjunto de treinamento MNIST\n",
        "train = datasets.MNIST(root = '.', train = True, download = True, transform=transform)\n",
        "train_loader = torch.utils.data.DataLoader(train, batch_size=128, shuffle=True)\n",
        "\n",
        "#Conjunto de teste MNIST\n",
        "test = datasets.MNIST(root = '.', train = False, download = True, transform=transform)\n",
        "test_loader = torch.utils.data.DataLoader(test, batch_size=128, shuffle=True)"
      ]
    },
    {
      "cell_type": "markdown",
      "metadata": {
        "id": "jKzPxNIZN12p"
      },
      "source": [
        "## Parte 1 - ResNet com Bloco de Identidade\n"
      ]
    },
    {
      "cell_type": "markdown",
      "metadata": {
        "id": "o8icL8fITAsu"
      },
      "source": [
        "\n",
        "O bloco de `Identidade` é o padrão utilizado nas `Redes Residuais (ResNets)` e correspondem ao caso em que a ativação de entrada tem a mesma dimensão da ativação de saída. Abaixo é ilustrado o bloco de Identidade:"
      ]
    },
    {
      "cell_type": "markdown",
      "metadata": {
        "id": "gE02vE6XSsne"
      },
      "source": [
        "![image.png](data:image/png;base64,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)"
      ]
    },
    {
      "cell_type": "markdown",
      "metadata": {
        "id": "7RJ4n4L2LqF6"
      },
      "source": [
        "O caminho superior é o `caminho do atalho (shortcut)`. O caminho inferior é o \"caminho principal\".\n"
      ]
    },
    {
      "cell_type": "code",
      "execution_count": null,
      "metadata": {
        "id": "U6jn_h-WN12q"
      },
      "outputs": [],
      "source": [
        "#Arquitetura com dois blocos residuais\n",
        "class ConvIdentityBlocks(torch.nn.Module):\n",
        "\n",
        "  def __init__(self, num_classes):\n",
        "    super(ConvIdentityBlocks, self).__init__()\n",
        "\n",
        "\n",
        "    #Primeiro bloco residual\n",
        "    self.block1 = nn.Sequential(\n",
        "                  nn.Conv2d(in_channels=1, out_channels=4,\n",
        "                            kernel_size=(1,1), stride=(1,1),\n",
        "                            padding=0),\n",
        "\n",
        "                  nn.BatchNorm2d(4),\n",
        "\n",
        "                  nn.ReLU(inplace=True),\n",
        "\n",
        "                  nn.Conv2d(in_channels=4, out_channels=1,\n",
        "                            kernel_size=(3,3), stride=(1,1),\n",
        "                            padding=1),\n",
        "\n",
        "                  nn.BatchNorm2d(1)\n",
        "                  )\n",
        "\n",
        "    #Segundo bloco residual\n",
        "    self.block2 = nn.Sequential(\n",
        "                  nn.Conv2d(in_channels=1, out_channels=4,\n",
        "                            kernel_size=(1,1), stride=(1,1),\n",
        "                            padding=0),\n",
        "\n",
        "                  nn.BatchNorm2d(4),\n",
        "\n",
        "                  nn.ReLU(inplace=True),\n",
        "\n",
        "                  nn.Conv2d(in_channels=4, out_channels=1,\n",
        "                            kernel_size=(3,3), stride=(1,1),\n",
        "                            padding=1),\n",
        "\n",
        "                  nn.BatchNorm2d(1)\n",
        "                  )\n",
        "\n",
        "    #Camada totalmente conectada\n",
        "    self.linear1 = nn.Linear(1*28*28, num_classes)\n",
        "\n",
        "\n",
        "  def forward(self, x):\n",
        "\n",
        "    #Salvando minha entrada inicial no atalho\n",
        "    shortcut = x\n",
        "\n",
        "    #Passando a entrada para o primeiro bloco\n",
        "    x = self.block1(x)\n",
        "    x = F.relu(x + shortcut)\n",
        "\n",
        "    #print('x for 1st block: ',x.size())\n",
        "\n",
        "    #Salvando a entrada do bloco anterior no atalho\n",
        "    shortcut = x\n",
        "    #print('identity for 2sd block: ',x.size())\n",
        "\n",
        "    #Passando a entrada para o segundo bloco\n",
        "    x = self.block2(x)\n",
        "    x = F.relu(x + shortcut)\n",
        "\n",
        "    #print(x.size())\n",
        "    output = self.linear1(x.view(-1,  1*28*28))\n",
        "\n",
        "    return output"
      ]
    },
    {
      "cell_type": "code",
      "execution_count": null,
      "metadata": {
        "id": "teLiGNBgN12r"
      },
      "outputs": [],
      "source": [
        "#Alguns parâmetros\n",
        "#Número de classes de acordo com o dataset MNIST\n",
        "num_classes = 10\n",
        "learning_rate = 0.001\n",
        "\n",
        "#Instanciando a nossa classe de bloco de Indentidade\n",
        "net_identity = ConvIdentityBlocks(num_classes=num_classes)\n",
        "\n",
        "#Função de custo/perda\n",
        "criterion = nn.CrossEntropyLoss()\n",
        "\n",
        "#Optimizador\n",
        "optimizer = optim.Adam(net_identity.parameters(), lr = learning_rate)"
      ]
    },
    {
      "cell_type": "code",
      "execution_count": null,
      "metadata": {
        "colab": {
          "base_uri": "https://localhost:8080/"
        },
        "id": "RjeP4jF1N12s",
        "outputId": "91dbb0c9-ebed-4b29-e477-0a65195646b3"
      },
      "outputs": [
        {
          "data": {
            "text/plain": [
              "ConvIdentityBlocks(\n",
              "  (block1): Sequential(\n",
              "    (0): Conv2d(1, 4, kernel_size=(1, 1), stride=(1, 1))\n",
              "    (1): BatchNorm2d(4, eps=1e-05, momentum=0.1, affine=True, track_running_stats=True)\n",
              "    (2): ReLU(inplace=True)\n",
              "    (3): Conv2d(4, 1, kernel_size=(3, 3), stride=(1, 1), padding=(1, 1))\n",
              "    (4): BatchNorm2d(1, eps=1e-05, momentum=0.1, affine=True, track_running_stats=True)\n",
              "  )\n",
              "  (block2): Sequential(\n",
              "    (0): Conv2d(1, 4, kernel_size=(1, 1), stride=(1, 1))\n",
              "    (1): BatchNorm2d(4, eps=1e-05, momentum=0.1, affine=True, track_running_stats=True)\n",
              "    (2): ReLU(inplace=True)\n",
              "    (3): Conv2d(4, 1, kernel_size=(3, 3), stride=(1, 1), padding=(1, 1))\n",
              "    (4): BatchNorm2d(1, eps=1e-05, momentum=0.1, affine=True, track_running_stats=True)\n",
              "  )\n",
              "  (linear1): Linear(in_features=784, out_features=10, bias=True)\n",
              ")"
            ]
          },
          "execution_count": 5,
          "metadata": {},
          "output_type": "execute_result"
        }
      ],
      "source": [
        "#Visualizando as camadas da nossa rede com o bloco de Indentidade\n",
        "net_identity.to(device)"
      ]
    },
    {
      "cell_type": "code",
      "execution_count": null,
      "metadata": {
        "colab": {
          "base_uri": "https://localhost:8080/"
        },
        "id": "FX92lN3NN12t",
        "outputId": "a97d3760-5365-4d99-cf57-078518b199f0"
      },
      "outputs": [
        {
          "name": "stdout",
          "output_type": "stream",
          "text": [
            "block1.0.weight torch.Size([4, 1, 1, 1])\n",
            "block1.0.bias torch.Size([4])\n",
            "block1.1.weight torch.Size([4])\n",
            "block1.1.bias torch.Size([4])\n",
            "block1.3.weight torch.Size([1, 4, 3, 3])\n",
            "block1.3.bias torch.Size([1])\n",
            "block1.4.weight torch.Size([1])\n",
            "block1.4.bias torch.Size([1])\n",
            "block2.0.weight torch.Size([4, 1, 1, 1])\n",
            "block2.0.bias torch.Size([4])\n",
            "block2.1.weight torch.Size([4])\n",
            "block2.1.bias torch.Size([4])\n",
            "block2.3.weight torch.Size([1, 4, 3, 3])\n",
            "block2.3.bias torch.Size([1])\n",
            "block2.4.weight torch.Size([1])\n",
            "block2.4.bias torch.Size([1])\n",
            "linear1.weight torch.Size([10, 784])\n",
            "linear1.bias torch.Size([10])\n"
          ]
        }
      ],
      "source": [
        "#Visualizando os parâmetros\n",
        "for name, param in net_identity.named_parameters():\n",
        "  print(name, param.shape)"
      ]
    },
    {
      "cell_type": "code",
      "execution_count": null,
      "metadata": {
        "colab": {
          "base_uri": "https://localhost:8080/"
        },
        "id": "woXzBjnlaexE",
        "outputId": "0e20189e-6d14-44bf-cdc3-921d250a399e"
      },
      "outputs": [
        {
          "name": "stdout",
          "output_type": "stream",
          "text": [
            "Epoch: 001/010 | Batch 000/469 | Loss: 0.1982\n",
            "Epoch: 001/010 | Batch 250/469 | Loss: 0.2761\n",
            "Época: 001/010 acurácia de treinamento: 94.16%\n",
            "Tempo de treino da epoch 001: 0.14 min\n",
            "\n",
            "Epoch: 002/010 | Batch 000/469 | Loss: 0.2644\n",
            "Epoch: 002/010 | Batch 250/469 | Loss: 0.1949\n",
            "Época: 002/010 acurácia de treinamento: 94.22%\n",
            "Tempo de treino da epoch 002: 0.28 min\n",
            "\n",
            "Epoch: 003/010 | Batch 000/469 | Loss: 0.1218\n",
            "Epoch: 003/010 | Batch 250/469 | Loss: 0.1846\n",
            "Época: 003/010 acurácia de treinamento: 94.22%\n",
            "Tempo de treino da epoch 003: 0.43 min\n",
            "\n",
            "Epoch: 004/010 | Batch 000/469 | Loss: 0.1967\n",
            "Epoch: 004/010 | Batch 250/469 | Loss: 0.2151\n",
            "Época: 004/010 acurácia de treinamento: 94.11%\n",
            "Tempo de treino da epoch 004: 0.57 min\n",
            "\n",
            "Epoch: 005/010 | Batch 000/469 | Loss: 0.1909\n",
            "Epoch: 005/010 | Batch 250/469 | Loss: 0.1138\n",
            "Época: 005/010 acurácia de treinamento: 94.09%\n",
            "Tempo de treino da epoch 005: 0.71 min\n",
            "\n",
            "Epoch: 006/010 | Batch 000/469 | Loss: 0.1456\n",
            "Epoch: 006/010 | Batch 250/469 | Loss: 0.2509\n",
            "Época: 006/010 acurácia de treinamento: 93.68%\n",
            "Tempo de treino da epoch 006: 0.85 min\n",
            "\n",
            "Epoch: 007/010 | Batch 000/469 | Loss: 0.0992\n",
            "Epoch: 007/010 | Batch 250/469 | Loss: 0.2354\n",
            "Época: 007/010 acurácia de treinamento: 94.10%\n",
            "Tempo de treino da epoch 007: 0.99 min\n",
            "\n",
            "Epoch: 008/010 | Batch 000/469 | Loss: 0.1251\n",
            "Epoch: 008/010 | Batch 250/469 | Loss: 0.1399\n",
            "Época: 008/010 acurácia de treinamento: 94.08%\n",
            "Tempo de treino da epoch 008: 1.14 min\n",
            "\n",
            "Epoch: 009/010 | Batch 000/469 | Loss: 0.1856\n",
            "Epoch: 009/010 | Batch 250/469 | Loss: 0.1725\n",
            "Época: 009/010 acurácia de treinamento: 94.24%\n",
            "Tempo de treino da epoch 009: 1.28 min\n",
            "\n",
            "Epoch: 010/010 | Batch 000/469 | Loss: 0.1238\n",
            "Epoch: 010/010 | Batch 250/469 | Loss: 0.1908\n",
            "Época: 010/010 acurácia de treinamento: 94.40%\n",
            "Tempo de treino da epoch 010: 1.42 min\n",
            "\n",
            "\n",
            "Tempo de treino total:: 1.42 min\n",
            "\n",
            "Acurácia do modelo no conjunto de teste: 92.63%\n"
          ]
        }
      ],
      "source": [
        "#Função para calcular a acurária da rede\n",
        "def model_accuracy(model, data_loader):\n",
        "\n",
        "  correct_pred = 0\n",
        "  num_examples = 0\n",
        "\n",
        "  for i, (inputs, labels) in enumerate(data_loader):\n",
        "\n",
        "    inputs, labels = inputs.to(device), labels.to(device)\n",
        "    logits = model(inputs)\n",
        "    _, predicted_labels = torch.max(logits, 1)\n",
        "    num_examples += labels.size(0)\n",
        "    correct_pred += (predicted_labels == labels).sum()\n",
        "\n",
        "\n",
        "  return correct_pred.float()/num_examples*100\n",
        "\n",
        "\n",
        "\n",
        "#Número de épocas para o treinamento da rede\n",
        "#num_epochs = 10\n",
        "\n",
        "#Função para o calculo de tempo\n",
        "start_time = time.time()\n",
        "for epoch in range(num_epochs):\n",
        "\n",
        "    #Instanciando o modelo para o modo treinamento\n",
        "    model = net_identity.train()\n",
        "\n",
        "    for batch_idx, (features, targets) in enumerate(train_loader):\n",
        "\n",
        "        #Transferindo as imagens e labels para a GPU\n",
        "        features = features.to(device)\n",
        "        targets = targets.to(device)\n",
        "\n",
        "        # FORWARD AND BACK PROP\n",
        "        logits = model(features) #\n",
        "        loss = criterion(logits, targets) #Calculo da função de perda\n",
        "        optimizer.zero_grad()\n",
        "\n",
        "        loss.backward()\n",
        "\n",
        "        #Atualizando os parâmetros da rede\n",
        "        optimizer.step()\n",
        "\n",
        "        #Log de treinamento\n",
        "        if not batch_idx % 250:\n",
        "            print ('Epoch: %03d/%03d | Batch %03d/%03d | Loss: %.4f'\n",
        "                   %(epoch+1, num_epochs, batch_idx,\n",
        "                     len(train_loader), loss))\n",
        "\n",
        "\n",
        "    #Modo de avalição da rede\n",
        "    model = model.eval()\n",
        "    with torch.set_grad_enabled(False):\n",
        "        print('Época: %03d/%03d acurácia de treinamento: %.2f%%' % (epoch+1, num_epochs,\n",
        "                                                              model_accuracy(model, train_loader)))\n",
        "    #Tempo de treinamento de cada epoch\n",
        "    print('Tempo de treino da epoch %03d: %.2f min\\n' % (epoch+1, (time.time() - start_time)/60))\n",
        "\n",
        "#Tempo total\n",
        "print('\\nTempo de treino total:: %.2f min' % ((time.time() - start_time)/60))\n",
        "\n",
        "#Avaliação com o conjunto de teste\n",
        "print('\\nAcurácia do modelo no conjunto de teste: %.2f%%' % (model_accuracy(model, test_loader)))"
      ]
    },
    {
      "cell_type": "markdown",
      "metadata": {
        "id": "8ifXr37XN12u"
      },
      "source": [
        "## Parte 2 - ResNet com blocos Convolucionais para Redimensionamento"
      ]
    },
    {
      "cell_type": "markdown",
      "metadata": {
        "id": "e7ofYeBjF4C6"
      },
      "source": [
        "Implementação dos `blocos residuais com conexões de salto`, de modo que a entrada passada pelo atalho corresponda às dimensões da saída do caminho principal. O `bloco convolucional` do ResNet é o outro tipo de bloco. Você pode utilizar este tipo de bloco quando as dimensões de entrada e saída não correspondem.\n",
        "\n",
        "A diferença com o bloco de identidade é que há uma camada de `Conv2d` no caminho de atalho."
      ]
    },
    {
      "cell_type": "markdown",
      "metadata": {
        "id": "zWojenouS02X"
      },
      "source": [
        "![image.png](data:image/png;base64,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)"
      ]
    },
    {
      "cell_type": "markdown",
      "metadata": {
        "id": "iQZxfEybPWZy"
      },
      "source": [
        "A camada `Conv2d` no caminho de atalho é usada para redimensionar a entrada 'x' para uma dimensão diferente, de modo que as dimensões do bloco coincidam na adição final necessária para adicionar (somar) o valor de atalho ao caminho/arquitetura principal.\n",
        "\n",
        "\n"
      ]
    },
    {
      "cell_type": "markdown",
      "metadata": {
        "id": "nWP1tWHOUXpk"
      },
      "source": [
        "Por exemplo para reduzir a altura e a largura das dimensões de ativação por um fator de 2, você pode usar uma `Conv2d` de dimensão `1x1` com o stride/passo de 2. A camada de Conv2d no caminho de atalho não utiliza nenhuma função de ativação linear. Sua função principal é apenas aplicar uma função linear (aprendida) que reduz a dimensão de entrada, de modo que as dimensões correspondam à etapa de adição posterior."
      ]
    },
    {
      "cell_type": "code",
      "execution_count": null,
      "metadata": {
        "id": "MWa_t7paN12u"
      },
      "outputs": [],
      "source": [
        "class ResidualBlock(nn.Module):\n",
        "\n",
        "    def __init__(self, channels):\n",
        "        super(ResidualBlock, self).__init__()\n",
        "\n",
        "        self.block = nn.Sequential(\n",
        "                     nn.Conv2d(in_channels=channels[0],\n",
        "                                out_channels=channels[1],\n",
        "                                kernel_size=(3, 3),\n",
        "                                stride=(2, 2),\n",
        "                                padding=1),\n",
        "                     nn.BatchNorm2d(channels[1]),\n",
        "                     nn.ReLU(inplace=True),\n",
        "                     nn.Conv2d(in_channels=channels[1],\n",
        "                                out_channels=channels[2],\n",
        "                                kernel_size=(1, 1),\n",
        "                                stride=(1, 1),\n",
        "                                padding=0),\n",
        "                     nn.BatchNorm2d(channels[2])\n",
        "        )\n",
        "\n",
        "        self.shortcut = nn.Sequential(\n",
        "                        nn.Conv2d(in_channels=channels[0],\n",
        "                                    out_channels=channels[2],\n",
        "                                    kernel_size=(1, 1),\n",
        "                                    stride=(2, 2),\n",
        "                                    padding=0),\n",
        "                        nn.BatchNorm2d(channels[2])\n",
        "        )\n",
        "\n",
        "\n",
        "    def forward(self, x):\n",
        "\n",
        "        shortcut = x\n",
        "\n",
        "        block = self.block(x)\n",
        "        shortcut = self.shortcut(x)\n",
        "\n",
        "        x = nn.functional.relu(block+shortcut) #outra maneira de utilizar a função relu\n",
        "\n",
        "        return x"
      ]
    },
    {
      "cell_type": "code",
      "execution_count": null,
      "metadata": {
        "id": "D1juu_ZBN12u"
      },
      "outputs": [],
      "source": [
        "#Definindo a estrutura de uma rede convolucional simples\n",
        "class ConvNet(nn.Module):\n",
        "\n",
        "    def __init__(self, num_classes):\n",
        "        super(ConvNet, self).__init__()\n",
        "\n",
        "        self.residual_block1 = ResidualBlock(channels=[1, 4, 8])\n",
        "\n",
        "        self.residual_block2 = ResidualBlock(channels=[8, 16, 32])\n",
        "\n",
        "        self.linear1 = nn.Linear(7*7*32, num_classes)\n",
        "\n",
        "\n",
        "    def forward(self, x):\n",
        "\n",
        "        out = self.residual_block1(x)\n",
        "        out = self.residual_block2(out)\n",
        "\n",
        "        out = self.linear1(out.view(-1, 7*7*32))\n",
        "\n",
        "        return out"
      ]
    },
    {
      "cell_type": "code",
      "execution_count": null,
      "metadata": {
        "id": "3x-DRB0SN12v"
      },
      "outputs": [],
      "source": [
        "#Número de classes de acordo com o dataset MNIST\n",
        "num_classes = 10\n",
        "\n",
        "#Instanciando a nossa classe de bloco de Indentidade\n",
        "net_conv_residual = ConvNet(num_classes=num_classes)\n",
        "\n",
        "#Função de custo/perda\n",
        "criterion = nn.CrossEntropyLoss()\n",
        "\n",
        "#Optimizador\n",
        "optimizer = optim.Adam(net_conv_residual.parameters())"
      ]
    },
    {
      "cell_type": "code",
      "execution_count": null,
      "metadata": {
        "colab": {
          "base_uri": "https://localhost:8080/"
        },
        "id": "6XON9-suN12v",
        "outputId": "0af97fdf-b29f-455f-c032-975872f6e938"
      },
      "outputs": [
        {
          "data": {
            "text/plain": [
              "ConvNet(\n",
              "  (residual_block1): ResidualBlock(\n",
              "    (block): Sequential(\n",
              "      (0): Conv2d(1, 4, kernel_size=(3, 3), stride=(2, 2), padding=(1, 1))\n",
              "      (1): BatchNorm2d(4, eps=1e-05, momentum=0.1, affine=True, track_running_stats=True)\n",
              "      (2): ReLU(inplace=True)\n",
              "      (3): Conv2d(4, 8, kernel_size=(1, 1), stride=(1, 1))\n",
              "      (4): BatchNorm2d(8, eps=1e-05, momentum=0.1, affine=True, track_running_stats=True)\n",
              "    )\n",
              "    (shortcut): Sequential(\n",
              "      (0): Conv2d(1, 8, kernel_size=(1, 1), stride=(2, 2))\n",
              "      (1): BatchNorm2d(8, eps=1e-05, momentum=0.1, affine=True, track_running_stats=True)\n",
              "    )\n",
              "  )\n",
              "  (residual_block2): ResidualBlock(\n",
              "    (block): Sequential(\n",
              "      (0): Conv2d(8, 16, kernel_size=(3, 3), stride=(2, 2), padding=(1, 1))\n",
              "      (1): BatchNorm2d(16, eps=1e-05, momentum=0.1, affine=True, track_running_stats=True)\n",
              "      (2): ReLU(inplace=True)\n",
              "      (3): Conv2d(16, 32, kernel_size=(1, 1), stride=(1, 1))\n",
              "      (4): BatchNorm2d(32, eps=1e-05, momentum=0.1, affine=True, track_running_stats=True)\n",
              "    )\n",
              "    (shortcut): Sequential(\n",
              "      (0): Conv2d(8, 32, kernel_size=(1, 1), stride=(2, 2))\n",
              "      (1): BatchNorm2d(32, eps=1e-05, momentum=0.1, affine=True, track_running_stats=True)\n",
              "    )\n",
              "  )\n",
              "  (linear1): Linear(in_features=1568, out_features=10, bias=True)\n",
              ")"
            ]
          },
          "execution_count": 17,
          "metadata": {},
          "output_type": "execute_result"
        }
      ],
      "source": [
        "#Visualizando as camadas da nossa rede com o bloco de Indentidade\n",
        "net_conv_residual.to(device)"
      ]
    },
    {
      "cell_type": "code",
      "execution_count": null,
      "metadata": {
        "colab": {
          "base_uri": "https://localhost:8080/"
        },
        "id": "h9o44ERyN12v",
        "outputId": "2510b9ba-e375-4e67-b281-2a8b6dfd6419"
      },
      "outputs": [
        {
          "name": "stdout",
          "output_type": "stream",
          "text": [
            "residual_block1.block.0.weight torch.Size([4, 1, 3, 3])\n",
            "residual_block1.block.0.bias torch.Size([4])\n",
            "residual_block1.block.1.weight torch.Size([4])\n",
            "residual_block1.block.1.bias torch.Size([4])\n",
            "residual_block1.block.3.weight torch.Size([8, 4, 1, 1])\n",
            "residual_block1.block.3.bias torch.Size([8])\n",
            "residual_block1.block.4.weight torch.Size([8])\n",
            "residual_block1.block.4.bias torch.Size([8])\n",
            "residual_block1.shortcut.0.weight torch.Size([8, 1, 1, 1])\n",
            "residual_block1.shortcut.0.bias torch.Size([8])\n",
            "residual_block1.shortcut.1.weight torch.Size([8])\n",
            "residual_block1.shortcut.1.bias torch.Size([8])\n",
            "residual_block2.block.0.weight torch.Size([16, 8, 3, 3])\n",
            "residual_block2.block.0.bias torch.Size([16])\n",
            "residual_block2.block.1.weight torch.Size([16])\n",
            "residual_block2.block.1.bias torch.Size([16])\n",
            "residual_block2.block.3.weight torch.Size([32, 16, 1, 1])\n",
            "residual_block2.block.3.bias torch.Size([32])\n",
            "residual_block2.block.4.weight torch.Size([32])\n",
            "residual_block2.block.4.bias torch.Size([32])\n",
            "residual_block2.shortcut.0.weight torch.Size([32, 8, 1, 1])\n",
            "residual_block2.shortcut.0.bias torch.Size([32])\n",
            "residual_block2.shortcut.1.weight torch.Size([32])\n",
            "residual_block2.shortcut.1.bias torch.Size([32])\n",
            "linear1.weight torch.Size([10, 1568])\n",
            "linear1.bias torch.Size([10])\n"
          ]
        }
      ],
      "source": [
        "#Visualizando os parâmetros\n",
        "for name, param in net_conv_residual.named_parameters():\n",
        "  print(name, param.shape)"
      ]
    },
    {
      "cell_type": "code",
      "execution_count": null,
      "metadata": {
        "colab": {
          "base_uri": "https://localhost:8080/"
        },
        "id": "lEsOSucbN12w",
        "outputId": "ef565804-cbb6-4b0e-8f47-1bdc06ef434d"
      },
      "outputs": [
        {
          "name": "stdout",
          "output_type": "stream",
          "text": [
            "Epoch: 001/010 | Batch 000/469 | Loss: 0.2226\n",
            "Epoch: 001/010 | Batch 250/469 | Loss: 0.2341\n",
            "Época: 001/010 acurácia de treinamento: 94.44%\n",
            "Tempo de treino da epoch 001: 0.14 min\n",
            "\n",
            "Epoch: 002/010 | Batch 000/469 | Loss: 0.1577\n",
            "Epoch: 002/010 | Batch 250/469 | Loss: 0.2072\n",
            "Época: 002/010 acurácia de treinamento: 94.44%\n",
            "Tempo de treino da epoch 002: 0.28 min\n",
            "\n",
            "Epoch: 003/010 | Batch 000/469 | Loss: 0.2218\n",
            "Epoch: 003/010 | Batch 250/469 | Loss: 0.2950\n",
            "Época: 003/010 acurácia de treinamento: 94.44%\n",
            "Tempo de treino da epoch 003: 0.42 min\n",
            "\n",
            "Epoch: 004/010 | Batch 000/469 | Loss: 0.1733\n",
            "Epoch: 004/010 | Batch 250/469 | Loss: 0.2684\n",
            "Época: 004/010 acurácia de treinamento: 94.44%\n",
            "Tempo de treino da epoch 004: 0.56 min\n",
            "\n",
            "Epoch: 005/010 | Batch 000/469 | Loss: 0.1701\n",
            "Epoch: 005/010 | Batch 250/469 | Loss: 0.1284\n",
            "Época: 005/010 acurácia de treinamento: 94.43%\n",
            "Tempo de treino da epoch 005: 0.70 min\n",
            "\n",
            "Epoch: 006/010 | Batch 000/469 | Loss: 0.1570\n",
            "Epoch: 006/010 | Batch 250/469 | Loss: 0.1567\n",
            "Época: 006/010 acurácia de treinamento: 94.43%\n",
            "Tempo de treino da epoch 006: 0.84 min\n",
            "\n",
            "Epoch: 007/010 | Batch 000/469 | Loss: 0.1740\n",
            "Epoch: 007/010 | Batch 250/469 | Loss: 0.1832\n",
            "Época: 007/010 acurácia de treinamento: 94.44%\n",
            "Tempo de treino da epoch 007: 0.98 min\n",
            "\n",
            "Epoch: 008/010 | Batch 000/469 | Loss: 0.1106\n",
            "Epoch: 008/010 | Batch 250/469 | Loss: 0.1731\n",
            "Época: 008/010 acurácia de treinamento: 94.43%\n",
            "Tempo de treino da epoch 008: 1.12 min\n",
            "\n",
            "Epoch: 009/010 | Batch 000/469 | Loss: 0.2266\n",
            "Epoch: 009/010 | Batch 250/469 | Loss: 0.1814\n",
            "Época: 009/010 acurácia de treinamento: 94.43%\n",
            "Tempo de treino da epoch 009: 1.26 min\n",
            "\n",
            "Epoch: 010/010 | Batch 000/469 | Loss: 0.1355\n",
            "Epoch: 010/010 | Batch 250/469 | Loss: 0.1800\n",
            "Época: 010/010 acurácia de treinamento: 94.44%\n",
            "Tempo de treino da epoch 010: 1.40 min\n",
            "\n",
            "\n",
            "Tempo de treino total:: 1.40 min\n",
            "\n",
            "Acurácia do modelo no conjunto de teste: 92.63%\n"
          ]
        }
      ],
      "source": [
        "#Função para calcular a acurária da rede\n",
        "def model_accuracy(model, data_loader):\n",
        "\n",
        "  correct_pred = 0\n",
        "  num_examples = 0\n",
        "\n",
        "  for i, (inputs, labels) in enumerate(data_loader):\n",
        "\n",
        "    inputs, labels = inputs.to(device), labels.to(device)\n",
        "    logits = model(inputs)\n",
        "    _, predicted_labels = torch.max(logits, 1)\n",
        "    num_examples += labels.size(0)\n",
        "    correct_pred += (predicted_labels == labels).sum()\n",
        "\n",
        "\n",
        "  return correct_pred.float()/num_examples*100\n",
        "\n",
        "\n",
        "\n",
        "#Número de épocas para o treinamento da rede\n",
        "#num_epochs = 10\n",
        "\n",
        "#Função para o calculo de tempo\n",
        "start_time = time.time()\n",
        "for epoch in range(num_epochs):\n",
        "\n",
        "    #Instanciando o modelo para o modo treinamento\n",
        "    model = net_identity.train()\n",
        "\n",
        "    for batch_idx, (features, targets) in enumerate(train_loader):\n",
        "\n",
        "        #Transferindo as imagens e labels para a GPU\n",
        "        features = features.to(device)\n",
        "        targets = targets.to(device)\n",
        "\n",
        "        # FORWARD AND BACK PROP\n",
        "        logits = model(features) #\n",
        "        loss = criterion(logits, targets) #Calculo da função de perda\n",
        "        optimizer.zero_grad()\n",
        "\n",
        "        loss.backward()\n",
        "\n",
        "        #Atualizando os parâmetros da rede\n",
        "        optimizer.step()\n",
        "\n",
        "        #Log de treinamento\n",
        "        if not batch_idx % 250:\n",
        "            print ('Epoch: %03d/%03d | Batch %03d/%03d | Loss: %.4f'\n",
        "                   %(epoch+1, num_epochs, batch_idx,\n",
        "                     len(train_loader), loss))\n",
        "\n",
        "\n",
        "    #Modo de avalição da rede\n",
        "    model = model.eval()\n",
        "    with torch.set_grad_enabled(False):\n",
        "        print('Época: %03d/%03d acurácia de treinamento: %.2f%%' % (epoch+1, num_epochs,\n",
        "                                                              model_accuracy(model, train_loader)))\n",
        "    #Tempo de treinamento de cada epoch\n",
        "    print('Tempo de treino da epoch %03d: %.2f min\\n' % (epoch+1, (time.time() - start_time)/60))\n",
        "\n",
        "#Tempo total\n",
        "print('\\nTempo de treino total:: %.2f min' % ((time.time() - start_time)/60))\n",
        "\n",
        "#Avaliação com o conjunto de teste\n",
        "print('\\nAcurácia do modelo no conjunto de teste: %.2f%%' % (model_accuracy(model, test_loader)))"
      ]
    },
    {
      "cell_type": "markdown",
      "metadata": {
        "id": "utJ8q63eWAQi"
      },
      "source": [
        "## Referências\n",
        "- **CNN 2.2 - Introduction to Residual Networks:** https://www.kaggle.com/code/patthoo/cnn-2-2-introduction-to-residual-networks/notebook\n",
        "\n",
        "- **stat453-deep-learning-ss21:** https://github.com/rasbt/stat453-deep-learning-ss21/blob/main/L14/2-resnet-example.ipynb"
      ]
    }
  ],
  "metadata": {
    "accelerator": "GPU",
    "colab": {
      "gpuType": "T4",
      "provenance": []
    },
    "kernelspec": {
      "display_name": "Python 3",
      "name": "python3"
    },
    "language_info": {
      "codemirror_mode": {
        "name": "ipython",
        "version": 3
      },
      "file_extension": ".py",
      "mimetype": "text/x-python",
      "name": "python",
      "nbconvert_exporter": "python",
      "pygments_lexer": "ipython3",
      "version": "3.10.6"
    },
    "orig_nbformat": 4
  },
  "nbformat": 4,
  "nbformat_minor": 0
}