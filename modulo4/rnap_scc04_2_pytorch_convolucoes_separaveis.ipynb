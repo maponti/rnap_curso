{
  "cells": [
    {
      "cell_type": "markdown",
      "source": [
        "<h2> Redes Neurais e Aprendizado Profundo <h2>\n",
        "\n",
        "- Convoluções Separáveis em Profundidade (Depthwise Separable Convolution)"
      ],
      "metadata": {
        "id": "dNgWlXMQkVIz"
      }
    },
    {
      "cell_type": "markdown",
      "metadata": {
        "id": "e-Udq4_LgxXV"
      },
      "source": [
        "## Parte 0 - Bibliotecas e Dataset"
      ]
    },
    {
      "cell_type": "code",
      "execution_count": null,
      "metadata": {
        "id": "7YNolrLRgxXU"
      },
      "outputs": [],
      "source": [
        "import time\n",
        "import numpy as np\n",
        "import torch\n",
        "import torch.nn as nn\n",
        "import torch.nn.functional as F\n",
        "from torch import optim\n",
        "\n",
        "from torch.utils.data import DataLoader\n",
        "from torchvision import datasets\n",
        "from torchvision import transforms"
      ]
    },
    {
      "cell_type": "code",
      "execution_count": null,
      "metadata": {
        "id": "h8teftyygxXW",
        "colab": {
          "base_uri": "https://localhost:8080/"
        },
        "outputId": "e043dff8-e26b-47f2-d4d3-0b9bc229b37b"
      },
      "outputs": [
        {
          "output_type": "stream",
          "name": "stdout",
          "text": [
            "Downloading http://yann.lecun.com/exdb/mnist/train-images-idx3-ubyte.gz\n",
            "Downloading http://yann.lecun.com/exdb/mnist/train-images-idx3-ubyte.gz to ./MNIST/raw/train-images-idx3-ubyte.gz\n"
          ]
        },
        {
          "output_type": "stream",
          "name": "stderr",
          "text": [
            "100%|██████████| 9912422/9912422 [00:00<00:00, 105496405.05it/s]\n"
          ]
        },
        {
          "output_type": "stream",
          "name": "stdout",
          "text": [
            "Extracting ./MNIST/raw/train-images-idx3-ubyte.gz to ./MNIST/raw\n",
            "\n",
            "Downloading http://yann.lecun.com/exdb/mnist/train-labels-idx1-ubyte.gz\n",
            "Downloading http://yann.lecun.com/exdb/mnist/train-labels-idx1-ubyte.gz to ./MNIST/raw/train-labels-idx1-ubyte.gz\n"
          ]
        },
        {
          "output_type": "stream",
          "name": "stderr",
          "text": [
            "100%|██████████| 28881/28881 [00:00<00:00, 118760484.14it/s]"
          ]
        },
        {
          "output_type": "stream",
          "name": "stdout",
          "text": [
            "Extracting ./MNIST/raw/train-labels-idx1-ubyte.gz to ./MNIST/raw\n",
            "\n",
            "Downloading http://yann.lecun.com/exdb/mnist/t10k-images-idx3-ubyte.gz\n",
            "Downloading http://yann.lecun.com/exdb/mnist/t10k-images-idx3-ubyte.gz to ./MNIST/raw/t10k-images-idx3-ubyte.gz\n"
          ]
        },
        {
          "output_type": "stream",
          "name": "stderr",
          "text": [
            "\n",
            "100%|██████████| 1648877/1648877 [00:00<00:00, 13699011.97it/s]\n"
          ]
        },
        {
          "output_type": "stream",
          "name": "stdout",
          "text": [
            "Extracting ./MNIST/raw/t10k-images-idx3-ubyte.gz to ./MNIST/raw\n",
            "\n",
            "Downloading http://yann.lecun.com/exdb/mnist/t10k-labels-idx1-ubyte.gz\n",
            "Downloading http://yann.lecun.com/exdb/mnist/t10k-labels-idx1-ubyte.gz to ./MNIST/raw/t10k-labels-idx1-ubyte.gz\n"
          ]
        },
        {
          "output_type": "stream",
          "name": "stderr",
          "text": [
            "100%|██████████| 4542/4542 [00:00<00:00, 21357095.03it/s]"
          ]
        },
        {
          "output_type": "stream",
          "name": "stdout",
          "text": [
            "Extracting ./MNIST/raw/t10k-labels-idx1-ubyte.gz to ./MNIST/raw\n",
            "\n"
          ]
        },
        {
          "output_type": "stream",
          "name": "stderr",
          "text": [
            "\n"
          ]
        }
      ],
      "source": [
        "#Padronizando sememente aleatória\n",
        "torch.manual_seed(123)\n",
        "\n",
        "#Device\n",
        "device = torch.device('cuda') if torch.cuda.is_available else torch.device('cpu')\n",
        "device\n",
        "\n",
        "#Transformando dados para o tensor\n",
        "transform = transforms.ToTensor()\n",
        "\n",
        "#Conjunto de treinamento MNIST\n",
        "train = datasets.MNIST(root = '.', train = True, download = True, transform=transform)\n",
        "train_loader = torch.utils.data.DataLoader(train, batch_size=128, shuffle=True)\n",
        "\n",
        "#Conjunto de teste MNIST\n",
        "test = datasets.MNIST(root = '.', train = False, download = True, transform=transform)\n",
        "test_loader = torch.utils.data.DataLoader(test, batch_size=128, shuffle=True)"
      ]
    },
    {
      "cell_type": "markdown",
      "source": [
        "## Parte 1 - Intuição das Convoluções Separáveis em Profundidade"
      ],
      "metadata": {
        "id": "a0P98ctydLtg"
      }
    },
    {
      "cell_type": "code",
      "execution_count": null,
      "metadata": {
        "colab": {
          "base_uri": "https://localhost:8080/"
        },
        "id": "xlmQE6vr_ag-",
        "outputId": "6cc914a9-7777-4b04-f225-0bc2e09ed3f7"
      },
      "outputs": [
        {
          "output_type": "stream",
          "name": "stdout",
          "text": [
            "A convolução padrão utiliza 2912 parâmetros.\n"
          ]
        }
      ],
      "source": [
        "#Apresentando uma convolução 2d normal\n",
        "conv = nn.Conv2d(in_channels=10, out_channels=32, kernel_size=3)\n",
        "\n",
        "#gerando número aleatórios para o input\n",
        "x = torch.rand(5, 10, 50, 50)\n",
        "\n",
        "#Armazenando uma saída qualquer\n",
        "out = conv(x)\n",
        "\n",
        "#Verificando a quantidade de parâmetros da conv\n",
        "params = sum(p.numel() for p in conv.parameters() if p.requires_grad)\n",
        "print(f\"A convolução padrão utiliza {params} parâmetros.\")"
      ]
    },
    {
      "cell_type": "code",
      "source": [
        "#Apresentando a ideia das Convoluções Separáveis em Profundidade (Depthwise Separable Convolution)\n",
        "\n",
        "#Conv2d 3x3 - primeiro lateral\n",
        "depthwise_conv = nn.Conv2d(in_channels=10, out_channels=10, kernel_size=3, groups=10)\n",
        "\n",
        "#Conv2d 1x1 - depois em profundidade\n",
        "pointwise_conv = nn.Conv2d(in_channels=10, out_channels=32, kernel_size=1)\n",
        "\n",
        "#Unindo as camadas\n",
        "depthwise_separable_conv = torch.nn.Sequential(depthwise_conv, pointwise_conv)\n",
        "\n",
        "#Armazenando saída\n",
        "out_depthwise = depthwise_separable_conv(x)\n",
        "\n",
        "#Verificando a quantidade de parâmetros da Depthwise Separable Convolution\n",
        "params_depthwise = sum(p.numel() for p in depthwise_separable_conv.parameters() if p.requires_grad)\n",
        "print(f\"As convoluções separáveis utilizam {params_depthwise} parâmetros.\")"
      ],
      "metadata": {
        "colab": {
          "base_uri": "https://localhost:8080/"
        },
        "id": "iES-K_wxXzh3",
        "outputId": "ff7a0e52-355f-4e4d-8bee-cac52f54636a"
      },
      "execution_count": null,
      "outputs": [
        {
          "output_type": "stream",
          "name": "stdout",
          "text": [
            "As convoluções separáveis utilizam 452 parâmetros.\n"
          ]
        }
      ]
    },
    {
      "cell_type": "markdown",
      "metadata": {
        "id": "mR71aAglgxXX"
      },
      "source": [
        "## Parte 1 - Arquitetura simples de uma Depthwise Separable Convolution | Convoluções Separáveis"
      ]
    },
    {
      "cell_type": "markdown",
      "source": [
        "Exemplo de uma simples convolução separável.\n"
      ],
      "metadata": {
        "id": "es4W980YXD3S"
      }
    },
    {
      "cell_type": "markdown",
      "source": [
        "![image.png](data:image/png;base64,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)"
      ],
      "metadata": {
        "id": "ioFRYItBWwa3"
      }
    },
    {
      "cell_type": "code",
      "execution_count": null,
      "metadata": {
        "id": "wKPOVHpwFKlF"
      },
      "outputs": [],
      "source": [
        "class DepthwiseSeparableConv2d(nn.Module):\n",
        "    def __init__(self, channels):\n",
        "        super(DepthwiseSeparableConv2d, self).__init__()\n",
        "\n",
        "        #Conv 3x3\n",
        "        self.depthwise = nn.Sequential(\n",
        "                            nn.Conv2d(in_channels=channels[0], out_channels=channels[0], kernel_size=3, padding=1\n",
        "                                      ),\n",
        "                            nn.BatchNorm2d(channels[0]),\n",
        "                            nn.ReLU(inplace=True)\n",
        "                            )\n",
        "        #Conv 1x1\n",
        "        self.pointwise = nn.Sequential(\n",
        "                            nn.Conv2d(in_channels=channels[0], out_channels=channels[1], kernel_size=1),\n",
        "                            nn.BatchNorm2d(channels[1]),\n",
        "                            nn.ReLU(inplace=True)\n",
        "                         )\n",
        "\n",
        "    def forward(self, x):\n",
        "\n",
        "        out = self.pointwise(self.depthwise(x))\n",
        "\n",
        "        return out"
      ]
    },
    {
      "cell_type": "code",
      "execution_count": null,
      "metadata": {
        "id": "i2lRgTXKSYMK"
      },
      "outputs": [],
      "source": [
        "class CNN_Depthwise_Separable(nn.Module):\n",
        "    def __init__(self):\n",
        "        super(CNN_Depthwise_Separable, self).__init__()\n",
        "\n",
        "        self.sep_conv1 = DepthwiseSeparableConv2d(channels=[1, 32])\n",
        "        self.sep_conv2 = DepthwiseSeparableConv2d(channels=[32, 64])\n",
        "\n",
        "        self.avgpool = nn.AvgPool2d(2)\n",
        "        self.maxpool = nn.MaxPool2d(2)\n",
        "        self.relu = nn.ReLU()\n",
        "\n",
        "        self.fc1 = nn.Linear(576, 100)\n",
        "        self.relu = nn.ReLU()\n",
        "        self.fc2 = nn.Linear(100, 10)\n",
        "\n",
        "\n",
        "    def forward(self, x):\n",
        "\n",
        "        out = self.maxpool(self.sep_conv1(x))\n",
        "        out = self.maxpool(self.sep_conv2(out))\n",
        "        out = self.avgpool(out)\n",
        "\n",
        "        out = out.view(out.size(0), -1)\n",
        "        out = self.relu(self.fc1(out))\n",
        "        out = self.fc2(out)\n",
        "\n",
        "        return out\n"
      ]
    },
    {
      "cell_type": "code",
      "execution_count": null,
      "metadata": {
        "colab": {
          "base_uri": "https://localhost:8080/"
        },
        "id": "qs4EUud8gxXZ",
        "outputId": "fdd2ee88-1c42-498d-8132-22cb46d211bf"
      },
      "outputs": [
        {
          "output_type": "stream",
          "name": "stdout",
          "text": [
            "Número de parâmetros da rede: 70402\n",
            "\n",
            "CNN_Depthwise_Separable(\n",
            "  (sep_conv1): DepthwiseSeparableConv2d(\n",
            "    (depthwise): Sequential(\n",
            "      (0): Conv2d(1, 1, kernel_size=(3, 3), stride=(1, 1), padding=(1, 1))\n",
            "      (1): BatchNorm2d(1, eps=1e-05, momentum=0.1, affine=True, track_running_stats=True)\n",
            "      (2): ReLU(inplace=True)\n",
            "    )\n",
            "    (pointwise): Sequential(\n",
            "      (0): Conv2d(1, 32, kernel_size=(1, 1), stride=(1, 1))\n",
            "      (1): BatchNorm2d(32, eps=1e-05, momentum=0.1, affine=True, track_running_stats=True)\n",
            "      (2): ReLU(inplace=True)\n",
            "    )\n",
            "  )\n",
            "  (sep_conv2): DepthwiseSeparableConv2d(\n",
            "    (depthwise): Sequential(\n",
            "      (0): Conv2d(32, 32, kernel_size=(3, 3), stride=(1, 1), padding=(1, 1))\n",
            "      (1): BatchNorm2d(32, eps=1e-05, momentum=0.1, affine=True, track_running_stats=True)\n",
            "      (2): ReLU(inplace=True)\n",
            "    )\n",
            "    (pointwise): Sequential(\n",
            "      (0): Conv2d(32, 64, kernel_size=(1, 1), stride=(1, 1))\n",
            "      (1): BatchNorm2d(64, eps=1e-05, momentum=0.1, affine=True, track_running_stats=True)\n",
            "      (2): ReLU(inplace=True)\n",
            "    )\n",
            "  )\n",
            "  (avgpool): AvgPool2d(kernel_size=2, stride=2, padding=0)\n",
            "  (maxpool): MaxPool2d(kernel_size=2, stride=2, padding=0, dilation=1, ceil_mode=False)\n",
            "  (relu): ReLU()\n",
            "  (fc1): Linear(in_features=576, out_features=100, bias=True)\n",
            "  (fc2): Linear(in_features=100, out_features=10, bias=True)\n",
            ")\n",
            "\n",
            "sep_conv1.depthwise.0.weight torch.Size([1, 1, 3, 3])\n",
            "sep_conv1.depthwise.0.bias torch.Size([1])\n",
            "sep_conv1.depthwise.1.weight torch.Size([1])\n",
            "sep_conv1.depthwise.1.bias torch.Size([1])\n",
            "sep_conv1.pointwise.0.weight torch.Size([32, 1, 1, 1])\n",
            "sep_conv1.pointwise.0.bias torch.Size([32])\n",
            "sep_conv1.pointwise.1.weight torch.Size([32])\n",
            "sep_conv1.pointwise.1.bias torch.Size([32])\n",
            "sep_conv2.depthwise.0.weight torch.Size([32, 32, 3, 3])\n",
            "sep_conv2.depthwise.0.bias torch.Size([32])\n",
            "sep_conv2.depthwise.1.weight torch.Size([32])\n",
            "sep_conv2.depthwise.1.bias torch.Size([32])\n",
            "sep_conv2.pointwise.0.weight torch.Size([64, 32, 1, 1])\n",
            "sep_conv2.pointwise.0.bias torch.Size([64])\n",
            "sep_conv2.pointwise.1.weight torch.Size([64])\n",
            "sep_conv2.pointwise.1.bias torch.Size([64])\n",
            "fc1.weight torch.Size([100, 576])\n",
            "fc1.bias torch.Size([100])\n",
            "fc2.weight torch.Size([10, 100])\n",
            "fc2.bias torch.Size([10])\n"
          ]
        }
      ],
      "source": [
        "#Número de classes de acordo com o dataset MNIST\n",
        "num_classes = 10\n",
        "\n",
        "model_sep_conv = CNN_Depthwise_Separable()\n",
        "total_params = sum(p.numel() for p in model_sep_conv.parameters())\n",
        "print(f\"Número de parâmetros da rede: {total_params}\\n\")\n",
        "\n",
        "#Instanciando a nossa classe de bloco de Indentidade\n",
        "model_sep_conv = CNN_Depthwise_Separable()\n",
        "\n",
        "#Função de custo/perda\n",
        "criterion = nn.CrossEntropyLoss()\n",
        "\n",
        "#Optimizador\n",
        "optimizer = optim.Adam(model_sep_conv.parameters())\n",
        "\n",
        "#Passando a rede para a GPU\n",
        "print(model_sep_conv.to(device))\n",
        "print()\n",
        "\n",
        "#Visualizando os parâmetros\n",
        "for name, param in model_sep_conv.named_parameters():\n",
        "  print(name, param.shape)"
      ]
    },
    {
      "cell_type": "code",
      "execution_count": null,
      "metadata": {
        "colab": {
          "base_uri": "https://localhost:8080/"
        },
        "id": "-qONQ_gYgxXa",
        "outputId": "3dbfc58d-e81c-41bd-d6b8-53399fb9d969"
      },
      "outputs": [
        {
          "output_type": "stream",
          "name": "stdout",
          "text": [
            "Epoch: 001/005 | Batch 000/469 | Cost: 2.3555\n",
            "Epoch: 001/005 | Batch 250/469 | Cost: 0.1029\n",
            "Epoch: 001/005 training accuracy: 96.44%\n",
            "Time elapsed: 0.31 min\n",
            "Epoch: 002/005 | Batch 000/469 | Cost: 0.0677\n",
            "Epoch: 002/005 | Batch 250/469 | Cost: 0.1208\n",
            "Epoch: 002/005 training accuracy: 96.97%\n",
            "Time elapsed: 0.56 min\n",
            "Epoch: 003/005 | Batch 000/469 | Cost: 0.0451\n",
            "Epoch: 003/005 | Batch 250/469 | Cost: 0.0924\n",
            "Epoch: 003/005 training accuracy: 97.76%\n",
            "Time elapsed: 0.80 min\n",
            "Epoch: 004/005 | Batch 000/469 | Cost: 0.0283\n",
            "Epoch: 004/005 | Batch 250/469 | Cost: 0.1093\n",
            "Epoch: 004/005 training accuracy: 98.22%\n",
            "Time elapsed: 1.04 min\n",
            "Epoch: 005/005 | Batch 000/469 | Cost: 0.0210\n",
            "Epoch: 005/005 | Batch 250/469 | Cost: 0.1237\n",
            "Epoch: 005/005 training accuracy: 98.70%\n",
            "Time elapsed: 1.30 min\n",
            "\n",
            "Total Training Time: 1.30 min\n",
            "\n",
            "Acurácia no conjunto de teste: 98.42%\n"
          ]
        }
      ],
      "source": [
        "#Função para calcular a acurária da rede\n",
        "def model_accuracy(model, data_loader):\n",
        "\n",
        "  correct_pred = 0\n",
        "  num_examples = 0\n",
        "\n",
        "  for i, (inputs, labels) in enumerate(data_loader):\n",
        "\n",
        "    inputs, labels = inputs.to(device), labels.to(device)\n",
        "    logits = model(inputs)\n",
        "    _, predicted_labels = torch.max(logits, 1)\n",
        "    num_examples += labels.size(0)\n",
        "    correct_pred += (predicted_labels == labels).sum()\n",
        "\n",
        "\n",
        "  return correct_pred.float()/num_examples*100\n",
        "\n",
        "\n",
        "\n",
        "#Número de épocas para o treinamento da rede\n",
        "num_epochs = 5\n",
        "\n",
        "#Função para o calculo de tempo\n",
        "start_time = time.time()\n",
        "\n",
        "for epoch in range(num_epochs):\n",
        "\n",
        "    #Instanciando o modelo para o modo treinamento\n",
        "    model = model_sep_conv.train()\n",
        "\n",
        "    for batch_idx, (features, targets) in enumerate(train_loader):\n",
        "\n",
        "        #Transferindo as imagens e labels para a GPU\n",
        "        features = features.to(device)\n",
        "        targets = targets.to(device)\n",
        "\n",
        "        # FORWARD AND BACK PROP\n",
        "        logits = model(features) #\n",
        "        loss = criterion(logits, targets) #Calculo da função de perda\n",
        "        optimizer.zero_grad()\n",
        "\n",
        "        loss.backward()\n",
        "\n",
        "        #Atualizando os parâmetros da rede\n",
        "        optimizer.step()\n",
        "\n",
        "        #Log de treinamento\n",
        "        if not batch_idx % 250:\n",
        "            print ('Epoch: %03d/%03d | Batch %03d/%03d | Loss: %.4f'\n",
        "                   %(epoch+1, num_epochs, batch_idx,\n",
        "                     len(train_loader), loss))\n",
        "\n",
        "\n",
        "    #Modo de avalição da rede\n",
        "    model = model.eval()\n",
        "    with torch.set_grad_enabled(False):\n",
        "        print('Época: %03d/%03d acurácia de treinamento: %.2f%%' % (epoch+1, num_epochs,\n",
        "                                                              model_accuracy(model, train_loader)))\n",
        "    #Tempo de treinamento de cada epoch\n",
        "    print('Tempo de treino da epoch %03d: %.2f min\\n' % (epoch+1, (time.time() - start_time)/60))\n",
        "\n",
        "#Tempo total\n",
        "print('\\nTempo de treino total:: %.2f min' % ((time.time() - start_time)/60))\n",
        "\n",
        "#Avaliação com o conjunto de teste\n",
        "print('\\nAcurácia do modelo no conjunto de teste: %.2f%%' % (model_accuracy(model, test_loader)))"
      ]
    },
    {
      "cell_type": "markdown",
      "metadata": {
        "id": "ICNa0P01gxXa"
      },
      "source": [
        "## Parte 2 -  Comparando com uma CNN tradicional"
      ]
    },
    {
      "cell_type": "code",
      "execution_count": null,
      "metadata": {
        "id": "KnZSEHoggxXa"
      },
      "outputs": [],
      "source": [
        "class CNNbased(nn.Module):\n",
        "    def __init__(self, num_classes):\n",
        "        super(CNNbased, self).__init__()\n",
        "\n",
        "        self.conv1 = nn.Conv2d(in_channels=1, out_channels=32, kernel_size=3)\n",
        "\n",
        "        self.conv2 = nn.Conv2d(in_channels=32, out_channels=64, kernel_size=3)\n",
        "\n",
        "        self.relu = nn.ReLU()\n",
        "        self.bn1 = nn.BatchNorm2d(32)\n",
        "        self.bn2 = nn.BatchNorm2d(64)\n",
        "        self.maxpooling = nn.MaxPool2d(kernel_size=(2,2))\n",
        "\n",
        "        self.flatten = nn.Flatten()\n",
        "\n",
        "        self.fc1 = nn.Linear(1600, 100)\n",
        "        self.fc2 = nn.Linear(100, 10)\n",
        "\n",
        "\n",
        "\n",
        "    def forward(self, x):\n",
        "\n",
        "        x = self.maxpooling(self.bn1(self.relu(self.conv1(x))))\n",
        "        x = self.maxpooling(self.bn2(self.relu(self.conv2(x))))\n",
        "\n",
        "        x = x.view(x.size(0), -1)\n",
        "        x = self.flatten(x)\n",
        "\n",
        "        x = self.relu(self.fc1(x))\n",
        "        #x = self.relu(self.fc2(x))\n",
        "        x = self.fc2(x)\n",
        "\n",
        "        return x\n"
      ]
    },
    {
      "cell_type": "code",
      "execution_count": null,
      "metadata": {
        "colab": {
          "base_uri": "https://localhost:8080/"
        },
        "id": "698pMItrgxXa",
        "outputId": "a4e36caf-cc02-4737-be31-9b11a3dce2d2"
      },
      "outputs": [
        {
          "output_type": "stream",
          "name": "stdout",
          "text": [
            "Número de parâmetros da rede: 180118\n",
            "\n",
            "CNNbased(\n",
            "  (conv1): Conv2d(1, 32, kernel_size=(3, 3), stride=(1, 1))\n",
            "  (conv2): Conv2d(32, 64, kernel_size=(3, 3), stride=(1, 1))\n",
            "  (relu): ReLU()\n",
            "  (bn1): BatchNorm2d(32, eps=1e-05, momentum=0.1, affine=True, track_running_stats=True)\n",
            "  (bn2): BatchNorm2d(64, eps=1e-05, momentum=0.1, affine=True, track_running_stats=True)\n",
            "  (maxpooling): MaxPool2d(kernel_size=(2, 2), stride=(2, 2), padding=0, dilation=1, ceil_mode=False)\n",
            "  (flatten): Flatten(start_dim=1, end_dim=-1)\n",
            "  (fc1): Linear(in_features=1600, out_features=100, bias=True)\n",
            "  (fc2): Linear(in_features=100, out_features=10, bias=True)\n",
            ")\n",
            "\n",
            "conv1.weight torch.Size([32, 1, 3, 3])\n",
            "conv1.bias torch.Size([32])\n",
            "conv2.weight torch.Size([64, 32, 3, 3])\n",
            "conv2.bias torch.Size([64])\n",
            "bn1.weight torch.Size([32])\n",
            "bn1.bias torch.Size([32])\n",
            "bn2.weight torch.Size([64])\n",
            "bn2.bias torch.Size([64])\n",
            "fc1.weight torch.Size([100, 1600])\n",
            "fc1.bias torch.Size([100])\n",
            "fc2.weight torch.Size([10, 100])\n",
            "fc2.bias torch.Size([10])\n"
          ]
        }
      ],
      "source": [
        "#Alguns parâmetros\n",
        "\n",
        "#Número de classes de acordo com o dataset MNIST\n",
        "num_classes = 10\n",
        "\n",
        "#Taxa de aprendizagem\n",
        "learning_rate = 0.001\n",
        "\n",
        "#Instanciando a nossa classe de bloco de Indentidade\n",
        "plain_cnn = CNNbased(num_classes=num_classes)\n",
        "\n",
        "#Função de custo/perda\n",
        "criterion = nn.CrossEntropyLoss()\n",
        "\n",
        "#Optimizador\n",
        "optimizer = optim.Adam(plain_cnn.parameters(), lr = learning_rate)\n",
        "\n",
        "total_params = sum(p.numel() for p in plain_cnn.parameters())\n",
        "print(f\"Número de parâmetros da rede: {total_params}\\n\")\n",
        "\n",
        "#Passando a rede para a GPU\n",
        "print(plain_cnn.to(device))\n",
        "print()\n",
        "\n",
        "\n",
        "#Visualizando os parâmetros\n",
        "for name, param in plain_cnn.named_parameters():\n",
        "  print(name, param.shape)"
      ]
    },
    {
      "cell_type": "code",
      "execution_count": null,
      "metadata": {
        "colab": {
          "base_uri": "https://localhost:8080/"
        },
        "id": "Kukuv1iApJwm",
        "outputId": "9c6b7c0e-cb19-4d07-9a31-5a17d9740dac"
      },
      "outputs": [
        {
          "output_type": "stream",
          "name": "stdout",
          "text": [
            "Epoch: 001/005 | Batch 000/469 | Loss: 2.3780\n",
            "Epoch: 001/005 | Batch 250/469 | Loss: 0.0939\n",
            "Época: 001/005 acurácia de treinamento: 99.10%\n",
            "Tempo de treino da epoch 001: 0.24 min\n",
            "\n",
            "Epoch: 002/005 | Batch 000/469 | Loss: 0.0176\n",
            "Epoch: 002/005 | Batch 250/469 | Loss: 0.0192\n",
            "Época: 002/005 acurácia de treinamento: 99.30%\n",
            "Tempo de treino da epoch 002: 0.47 min\n",
            "\n",
            "Epoch: 003/005 | Batch 000/469 | Loss: 0.0226\n",
            "Epoch: 003/005 | Batch 250/469 | Loss: 0.0502\n",
            "Época: 003/005 acurácia de treinamento: 99.60%\n",
            "Tempo de treino da epoch 003: 0.70 min\n",
            "\n",
            "Epoch: 004/005 | Batch 000/469 | Loss: 0.0081\n",
            "Epoch: 004/005 | Batch 250/469 | Loss: 0.0008\n",
            "Época: 004/005 acurácia de treinamento: 99.72%\n",
            "Tempo de treino da epoch 004: 0.94 min\n",
            "\n",
            "Epoch: 005/005 | Batch 000/469 | Loss: 0.0146\n",
            "Epoch: 005/005 | Batch 250/469 | Loss: 0.0011\n",
            "Época: 005/005 acurácia de treinamento: 99.65%\n",
            "Tempo de treino da epoch 005: 1.17 min\n",
            "\n",
            "\n",
            "Tempo de treino total:: 1.17 min\n",
            "\n",
            "Acurácia do modelo no conjunto de teste: 98.95%\n"
          ]
        }
      ],
      "source": [
        "#Função para calcular a acurária da rede\n",
        "def model_accuracy(model, data_loader):\n",
        "\n",
        "  correct_pred = 0\n",
        "  num_examples = 0\n",
        "\n",
        "  for i, (inputs, labels) in enumerate(data_loader):\n",
        "\n",
        "    inputs, labels = inputs.to(device), labels.to(device)\n",
        "    logits = model(inputs)\n",
        "    _, predicted_labels = torch.max(logits, 1)\n",
        "    num_examples += labels.size(0)\n",
        "    correct_pred += (predicted_labels == labels).sum()\n",
        "\n",
        "\n",
        "  return correct_pred.float()/num_examples*100\n",
        "\n",
        "\n",
        "\n",
        "#Número de épocas para o treinamento da rede\n",
        "num_epochs = 5\n",
        "\n",
        "#Função para o calculo de tempo\n",
        "start_time = time.time()\n",
        "\n",
        "for epoch in range(num_epochs):\n",
        "\n",
        "    #Instanciando o modelo para o modo treinamento\n",
        "    model = plain_cnn.train()\n",
        "\n",
        "    for batch_idx, (features, targets) in enumerate(train_loader):\n",
        "\n",
        "        #Transferindo as imagens e labels para a GPU\n",
        "        features = features.to(device)\n",
        "        targets = targets.to(device)\n",
        "\n",
        "        # FORWARD AND BACK PROP\n",
        "        logits = model(features) #\n",
        "        loss = criterion(logits, targets) #Calculo da função de perda\n",
        "        optimizer.zero_grad()\n",
        "\n",
        "        loss.backward()\n",
        "\n",
        "        #Atualizando os parâmetros da rede\n",
        "        optimizer.step()\n",
        "\n",
        "        #Log de treinamento\n",
        "        if not batch_idx % 250:\n",
        "            print ('Epoch: %03d/%03d | Batch %03d/%03d | Loss: %.4f'\n",
        "                   %(epoch+1, num_epochs, batch_idx,\n",
        "                     len(train_loader), loss))\n",
        "\n",
        "\n",
        "    #Modo de avalição da rede\n",
        "    model = model.eval()\n",
        "    with torch.set_grad_enabled(False):\n",
        "        print('Época: %03d/%03d acurácia de treinamento: %.2f%%' % (epoch+1, num_epochs,\n",
        "                                                              model_accuracy(model, train_loader)))\n",
        "    #Tempo de treinamento de cada epoch\n",
        "    print('Tempo de treino da epoch %03d: %.2f min\\n' % (epoch+1, (time.time() - start_time)/60))\n",
        "\n",
        "#Tempo total\n",
        "print('\\nTempo de treino total:: %.2f min' % ((time.time() - start_time)/60))\n",
        "\n",
        "#Avaliação com o conjunto de teste\n",
        "print('\\nAcurácia do modelo no conjunto de teste: %.2f%%' % (model_accuracy(model, test_loader)))"
      ]
    },
    {
      "cell_type": "markdown",
      "source": [
        "## Referências\n",
        "\n",
        "- **MobileNets: Efficient Convolutional Neural Networks for Mobile Vision\n",
        "Applications**: https://arxiv.org/pdf/1704.04861.pdf\n",
        "\n",
        "- **A Basic Introduction to Separable Convolutions:**  https://towardsdatascience.com/a-basic-introduction-to-separable-convolutions-b99ec3102728\n",
        "\n",
        "- **Groups, Depthwise, and Depthwise-Separable Convolution (Neural Networks)**: https://www.youtube.com/watch?v=vVaRhZXovbw\n",
        "\n",
        "- **Parameters almost same in Depthwise Separable Convolution (when compared to a standard CNN)?**: https://discuss.pytorch.org/t/parameters-almost-same-in-depthwise-separable-convolution-when-compared-to-a-standard-cnn/65649"
      ],
      "metadata": {
        "id": "WyMofgoge6v0"
      }
    }
  ],
  "metadata": {
    "accelerator": "GPU",
    "colab": {
      "gpuType": "T4",
      "provenance": []
    },
    "kernelspec": {
      "display_name": "Python 3",
      "name": "python3"
    },
    "language_info": {
      "codemirror_mode": {
        "name": "ipython",
        "version": 3
      },
      "file_extension": ".py",
      "mimetype": "text/x-python",
      "name": "python",
      "nbconvert_exporter": "python",
      "pygments_lexer": "ipython3",
      "version": "3.10.6"
    }
  },
  "nbformat": 4,
  "nbformat_minor": 0
}