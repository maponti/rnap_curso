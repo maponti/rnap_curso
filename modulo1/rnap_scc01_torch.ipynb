{
  "nbformat": 4,
  "nbformat_minor": 0,
  "metadata": {
    "colab": {
      "provenance": [],
      "collapsed_sections": []
    },
    "kernelspec": {
      "name": "python3",
      "display_name": "Python 3"
    },
    "language_info": {
      "name": "python"
    }
  },
  "cells": [
    {
      "cell_type": "markdown",
      "source": [
        "## Redes Neurais e Aprendizado Profundo\n",
        "\n",
        "#### Introdução a pytorch\n",
        "\n",
        "Moacir A Ponti - 2022"
      ],
      "metadata": {
        "id": "gbeB0FbKv2j8"
      }
    },
    {
      "cell_type": "code",
      "execution_count": null,
      "metadata": {
        "id": "6d1Hk5RrXFk1"
      },
      "outputs": [],
      "source": [
        "import torch\n",
        "import numpy as np"
      ]
    },
    {
      "cell_type": "markdown",
      "source": [
        "Operações similares à `numpy` para geração de arrays/matrizes"
      ],
      "metadata": {
        "id": "DsHSCsIswGxP"
      }
    },
    {
      "cell_type": "code",
      "source": [
        "np.arange(5) # 0 a 4"
      ],
      "metadata": {
        "id": "IBb1i8INYfri",
        "colab": {
          "base_uri": "https://localhost:8080/"
        },
        "outputId": "e3e09644-09dc-4c67-e8d3-88b992f8673d"
      },
      "execution_count": null,
      "outputs": [
        {
          "output_type": "execute_result",
          "data": {
            "text/plain": [
              "array([0, 1, 2, 3, 4])"
            ]
          },
          "metadata": {},
          "execution_count": 3
        }
      ]
    },
    {
      "cell_type": "code",
      "source": [
        "np.arange(1,10) # 1 a 9"
      ],
      "metadata": {
        "colab": {
          "base_uri": "https://localhost:8080/"
        },
        "id": "sGcRegrZyzYn",
        "outputId": "4adc35b5-bc6e-4176-a3e4-143fdec0a875"
      },
      "execution_count": null,
      "outputs": [
        {
          "output_type": "execute_result",
          "data": {
            "text/plain": [
              "array([1, 2, 3, 4, 5, 6, 7, 8, 9])"
            ]
          },
          "metadata": {},
          "execution_count": 4
        }
      ]
    },
    {
      "cell_type": "code",
      "source": [
        "np.ones((3,10))*5"
      ],
      "metadata": {
        "colab": {
          "base_uri": "https://localhost:8080/"
        },
        "id": "1qJ8nlUky4e-",
        "outputId": "947db8a7-717f-4919-a099-2a03f7306ec6"
      },
      "execution_count": null,
      "outputs": [
        {
          "output_type": "execute_result",
          "data": {
            "text/plain": [
              "array([[5., 5., 5., 5., 5., 5., 5., 5., 5., 5.],\n",
              "       [5., 5., 5., 5., 5., 5., 5., 5., 5., 5.],\n",
              "       [5., 5., 5., 5., 5., 5., 5., 5., 5., 5.]])"
            ]
          },
          "metadata": {},
          "execution_count": 8
        }
      ]
    },
    {
      "cell_type": "markdown",
      "source": [
        "Tensores\n",
        "* geração\n",
        "* tamanho\n",
        "* alteração de formato\n",
        "* indexação e fatiamento"
      ],
      "metadata": {
        "id": "CwEq95JyxkPx"
      }
    },
    {
      "cell_type": "code",
      "source": [
        "A = torch.arange(1,10)"
      ],
      "metadata": {
        "id": "OmcwDAT6xk5a"
      },
      "execution_count": null,
      "outputs": []
    },
    {
      "cell_type": "code",
      "source": [
        "B = torch.ones((2,5))"
      ],
      "metadata": {
        "id": "UdIZsdQRzR52"
      },
      "execution_count": null,
      "outputs": []
    },
    {
      "cell_type": "code",
      "source": [
        "A.shape[0]"
      ],
      "metadata": {
        "colab": {
          "base_uri": "https://localhost:8080/"
        },
        "id": "xXDoxTknzbMc",
        "outputId": "5321c840-d77c-4165-8fc4-cb0375498942"
      },
      "execution_count": null,
      "outputs": [
        {
          "output_type": "execute_result",
          "data": {
            "text/plain": [
              "9"
            ]
          },
          "metadata": {},
          "execution_count": 16
        }
      ]
    },
    {
      "cell_type": "code",
      "source": [
        "A.numel()"
      ],
      "metadata": {
        "colab": {
          "base_uri": "https://localhost:8080/"
        },
        "id": "QIPlk6f_zlFU",
        "outputId": "a02565ab-7699-421b-9666-1d5c3ff20601"
      },
      "execution_count": null,
      "outputs": [
        {
          "output_type": "execute_result",
          "data": {
            "text/plain": [
              "9"
            ]
          },
          "metadata": {},
          "execution_count": 18
        }
      ]
    },
    {
      "cell_type": "code",
      "source": [
        "B.numel()"
      ],
      "metadata": {
        "colab": {
          "base_uri": "https://localhost:8080/"
        },
        "id": "JZTw-qE7zoCl",
        "outputId": "0c191fc7-8f54-45b1-d2ec-3bcca3b67089"
      },
      "execution_count": null,
      "outputs": [
        {
          "output_type": "execute_result",
          "data": {
            "text/plain": [
              "10"
            ]
          },
          "metadata": {},
          "execution_count": 19
        }
      ]
    },
    {
      "cell_type": "code",
      "source": [
        "B.shape"
      ],
      "metadata": {
        "colab": {
          "base_uri": "https://localhost:8080/"
        },
        "id": "SiZ9sXEAzicG",
        "outputId": "0cfd87d6-f4c6-44d3-c469-62dbeb45a362"
      },
      "execution_count": null,
      "outputs": [
        {
          "output_type": "execute_result",
          "data": {
            "text/plain": [
              "torch.Size([2, 5])"
            ]
          },
          "metadata": {},
          "execution_count": 17
        }
      ]
    },
    {
      "cell_type": "code",
      "source": [
        "B.shape[1]"
      ],
      "metadata": {
        "colab": {
          "base_uri": "https://localhost:8080/"
        },
        "id": "covBPv2hzt5Y",
        "outputId": "277b15d6-65d4-4450-e400-0ef448e092bd"
      },
      "execution_count": null,
      "outputs": [
        {
          "output_type": "execute_result",
          "data": {
            "text/plain": [
              "5"
            ]
          },
          "metadata": {},
          "execution_count": 21
        }
      ]
    },
    {
      "cell_type": "code",
      "source": [
        "# chamo o método reshape, que altera o formato e RETORNA um novo tensor\n",
        "# com o novo formato\n",
        "print(A.reshape((3,3)))\n",
        "print(A.reshape((3,3)).shape)"
      ],
      "metadata": {
        "colab": {
          "base_uri": "https://localhost:8080/"
        },
        "id": "1hSMM0xJzxbE",
        "outputId": "b5cf8357-db83-454c-b246-14ce5b000bbc"
      },
      "execution_count": null,
      "outputs": [
        {
          "output_type": "stream",
          "name": "stdout",
          "text": [
            "tensor([[1, 2, 3],\n",
            "        [4, 5, 6],\n",
            "        [7, 8, 9]])\n",
            "torch.Size([3, 3])\n"
          ]
        }
      ]
    },
    {
      "cell_type": "code",
      "source": [
        "A[0]"
      ],
      "metadata": {
        "colab": {
          "base_uri": "https://localhost:8080/"
        },
        "id": "bT9Xmaf_z_il",
        "outputId": "6a1c31b6-7865-4674-9969-402d823ba18c"
      },
      "execution_count": null,
      "outputs": [
        {
          "output_type": "execute_result",
          "data": {
            "text/plain": [
              "tensor(1)"
            ]
          },
          "metadata": {},
          "execution_count": 27
        }
      ]
    },
    {
      "cell_type": "code",
      "source": [
        "A[-1]"
      ],
      "metadata": {
        "colab": {
          "base_uri": "https://localhost:8080/"
        },
        "id": "ro6dc3hl0SkE",
        "outputId": "7d471ea6-4cb0-4575-85c2-c668c2d4b04f"
      },
      "execution_count": null,
      "outputs": [
        {
          "output_type": "execute_result",
          "data": {
            "text/plain": [
              "tensor(9)"
            ]
          },
          "metadata": {},
          "execution_count": 29
        }
      ]
    },
    {
      "cell_type": "code",
      "source": [
        "A[0:4]"
      ],
      "metadata": {
        "colab": {
          "base_uri": "https://localhost:8080/"
        },
        "id": "uDRBBHOo0Waq",
        "outputId": "b2fd8ed0-0807-4658-e721-63f168d1b937"
      },
      "execution_count": null,
      "outputs": [
        {
          "output_type": "execute_result",
          "data": {
            "text/plain": [
              "tensor([1, 2, 3, 4])"
            ]
          },
          "metadata": {},
          "execution_count": 30
        }
      ]
    },
    {
      "cell_type": "code",
      "source": [
        "A[:-2]"
      ],
      "metadata": {
        "colab": {
          "base_uri": "https://localhost:8080/"
        },
        "id": "9rVB5dPW0YvM",
        "outputId": "9afee40a-7e1e-4bd2-ba40-a4c04c914920"
      },
      "execution_count": null,
      "outputs": [
        {
          "output_type": "execute_result",
          "data": {
            "text/plain": [
              "tensor([1, 2, 3, 4, 5, 6, 7])"
            ]
          },
          "metadata": {},
          "execution_count": 33
        }
      ]
    },
    {
      "cell_type": "markdown",
      "source": [
        "Operações básicas e funções\n",
        "* unárias\n",
        "* binárias elemento-a-elemento\n",
        "* lógicas\n",
        "* concatenação \n",
        "* broadcasting: operacoes em tensores/array de formatos diferentes, expandindo as dimensoes de um deles"
      ],
      "metadata": {
        "id": "v1HcXLXOxli3"
      }
    },
    {
      "cell_type": "code",
      "source": [
        "A.dtype"
      ],
      "metadata": {
        "colab": {
          "base_uri": "https://localhost:8080/"
        },
        "id": "o4xexufI0uO4",
        "outputId": "5c2cbc18-a7df-4c35-adaf-47e330cb9cc5"
      },
      "execution_count": null,
      "outputs": [
        {
          "output_type": "execute_result",
          "data": {
            "text/plain": [
              "torch.int64"
            ]
          },
          "metadata": {},
          "execution_count": 34
        }
      ]
    },
    {
      "cell_type": "code",
      "source": [
        "C = torch.arange(1,11, dtype=torch.float32)\n",
        "print(C.dtype)\n",
        "print(C)"
      ],
      "metadata": {
        "colab": {
          "base_uri": "https://localhost:8080/"
        },
        "id": "JTkWj8ycx61a",
        "outputId": "b8b4e301-0197-4d0b-ce02-4a3f55178e9a"
      },
      "execution_count": null,
      "outputs": [
        {
          "output_type": "stream",
          "name": "stdout",
          "text": [
            "torch.float32\n",
            "tensor([ 1.,  2.,  3.,  4.,  5.,  6.,  7.,  8.,  9., 10.])\n"
          ]
        }
      ]
    },
    {
      "cell_type": "code",
      "source": [
        "# operadores unarios\n",
        "print(torch.log(C))\n",
        "print(torch.exp(C))"
      ],
      "metadata": {
        "colab": {
          "base_uri": "https://localhost:8080/"
        },
        "id": "aVOQ_KVW1BEW",
        "outputId": "2e352dc1-6f98-498e-f501-3c8332f501bc"
      },
      "execution_count": null,
      "outputs": [
        {
          "output_type": "stream",
          "name": "stdout",
          "text": [
            "tensor([0.0000, 0.6931, 1.0986, 1.3863, 1.6094, 1.7918, 1.9459, 2.0794, 2.1972,\n",
            "        2.3026])\n",
            "tensor([2.7183e+00, 7.3891e+00, 2.0086e+01, 5.4598e+01, 1.4841e+02, 4.0343e+02,\n",
            "        1.0966e+03, 2.9810e+03, 8.1031e+03, 2.2026e+04])\n"
          ]
        }
      ]
    },
    {
      "cell_type": "code",
      "source": [
        "D = torch.ones(10)*3\n",
        "print(D)"
      ],
      "metadata": {
        "colab": {
          "base_uri": "https://localhost:8080/"
        },
        "id": "eq_tCTIy1Utt",
        "outputId": "e9590d1e-1200-46b8-f8c7-1c1a3d04c61b"
      },
      "execution_count": null,
      "outputs": [
        {
          "output_type": "stream",
          "name": "stdout",
          "text": [
            "tensor([3., 3., 3., 3., 3., 3., 3., 3., 3., 3.])\n"
          ]
        }
      ]
    },
    {
      "cell_type": "code",
      "source": [
        "# operadores binários - ponto a ponto (elemento a elemento)\n",
        "# soma, subtracao, mult, div, exponenciacao\n",
        "C + D, C - D, C * D, C / D, C ** D"
      ],
      "metadata": {
        "colab": {
          "base_uri": "https://localhost:8080/"
        },
        "id": "Y7dhcS8Q1Li8",
        "outputId": "753bf707-45e8-447f-de33-2260d55dd8fc"
      },
      "execution_count": null,
      "outputs": [
        {
          "output_type": "execute_result",
          "data": {
            "text/plain": [
              "(tensor([ 4.,  5.,  6.,  7.,  8.,  9., 10., 11., 12., 13.]),\n",
              " tensor([-2., -1.,  0.,  1.,  2.,  3.,  4.,  5.,  6.,  7.]),\n",
              " tensor([ 3.,  6.,  9., 12., 15., 18., 21., 24., 27., 30.]),\n",
              " tensor([0.3333, 0.6667, 1.0000, 1.3333, 1.6667, 2.0000, 2.3333, 2.6667, 3.0000,\n",
              "         3.3333]),\n",
              " tensor([   1.,    8.,   27.,   64.,  125.,  216.,  343.,  512.,  729., 1000.]))"
            ]
          },
          "metadata": {},
          "execution_count": 47
        }
      ]
    },
    {
      "cell_type": "code",
      "source": [
        "E = torch.arange(10,100,5)\n",
        "print(E)"
      ],
      "metadata": {
        "colab": {
          "base_uri": "https://localhost:8080/"
        },
        "id": "YRzgz_1g1w_d",
        "outputId": "c070ec68-efb3-402e-cddb-223e0103ef89"
      },
      "execution_count": null,
      "outputs": [
        {
          "output_type": "stream",
          "name": "stdout",
          "text": [
            "tensor([10, 15, 20, 25, 30, 35, 40, 45, 50, 55, 60, 65, 70, 75, 80, 85, 90, 95])\n"
          ]
        }
      ]
    },
    {
      "cell_type": "code",
      "source": [
        "E > 50"
      ],
      "metadata": {
        "colab": {
          "base_uri": "https://localhost:8080/"
        },
        "id": "nOtnF7jM14n6",
        "outputId": "09e24bbf-79ab-4c5d-8023-f915090da3c7"
      },
      "execution_count": null,
      "outputs": [
        {
          "output_type": "execute_result",
          "data": {
            "text/plain": [
              "tensor([False, False, False, False, False, False, False, False, False,  True,\n",
              "         True,  True,  True,  True,  True,  True,  True,  True])"
            ]
          },
          "metadata": {},
          "execution_count": 50
        }
      ]
    },
    {
      "cell_type": "code",
      "source": [
        "C > D"
      ],
      "metadata": {
        "colab": {
          "base_uri": "https://localhost:8080/"
        },
        "id": "DFmM4-oj2E2W",
        "outputId": "37a7f0f5-e542-4bf5-af60-832af69bdcf5"
      },
      "execution_count": null,
      "outputs": [
        {
          "output_type": "execute_result",
          "data": {
            "text/plain": [
              "tensor([False, False, False,  True,  True,  True,  True,  True,  True,  True])"
            ]
          },
          "metadata": {},
          "execution_count": 51
        }
      ]
    },
    {
      "cell_type": "code",
      "source": [
        "print(C)"
      ],
      "metadata": {
        "colab": {
          "base_uri": "https://localhost:8080/"
        },
        "id": "rPseJSKH2W7d",
        "outputId": "46d1bf92-d839-4738-a661-18f0c851dc65"
      },
      "execution_count": null,
      "outputs": [
        {
          "output_type": "stream",
          "name": "stdout",
          "text": [
            "tensor([ 1.,  2.,  3.,  4.,  5.,  6.,  7.,  8.,  9., 10.])\n"
          ]
        }
      ]
    },
    {
      "cell_type": "code",
      "source": [
        "C[C > D]"
      ],
      "metadata": {
        "colab": {
          "base_uri": "https://localhost:8080/"
        },
        "id": "LhxKhFm12PSa",
        "outputId": "4740a6fe-332e-4ec1-ca8c-8dd6d2bb08e9"
      },
      "execution_count": null,
      "outputs": [
        {
          "output_type": "execute_result",
          "data": {
            "text/plain": [
              "tensor([ 4.,  5.,  6.,  7.,  8.,  9., 10.])"
            ]
          },
          "metadata": {},
          "execution_count": 52
        }
      ]
    },
    {
      "cell_type": "code",
      "source": [
        "mascara_binaria = torch.tensor([True]*2 + [False]*4 + [True]*4)"
      ],
      "metadata": {
        "id": "QwcP1BIq2any"
      },
      "execution_count": null,
      "outputs": []
    },
    {
      "cell_type": "code",
      "source": [
        "C[mascara_binaria]"
      ],
      "metadata": {
        "colab": {
          "base_uri": "https://localhost:8080/"
        },
        "id": "uUhZRHD-2w85",
        "outputId": "ee747bc9-e566-4dd9-9114-fb46b6c09d8f"
      },
      "execution_count": null,
      "outputs": [
        {
          "output_type": "execute_result",
          "data": {
            "text/plain": [
              "tensor([ 1.,  2.,  7.,  8.,  9., 10.])"
            ]
          },
          "metadata": {},
          "execution_count": 57
        }
      ]
    },
    {
      "cell_type": "code",
      "source": [
        "# broadcasting\n",
        "x = torch.arange(4).reshape(4,1)\n",
        "y = torch.arange(2).reshape(1,2)\n",
        "\n",
        "x,y"
      ],
      "metadata": {
        "colab": {
          "base_uri": "https://localhost:8080/"
        },
        "id": "3hYNGw0i3BXL",
        "outputId": "3fc08dff-8e99-412b-f07e-895ae4742655"
      },
      "execution_count": null,
      "outputs": [
        {
          "output_type": "execute_result",
          "data": {
            "text/plain": [
              "(tensor([[0],\n",
              "         [1],\n",
              "         [2],\n",
              "         [3]]), tensor([[0, 1]]))"
            ]
          },
          "metadata": {},
          "execution_count": 58
        }
      ]
    },
    {
      "cell_type": "code",
      "source": [
        "# broadcasting expandiu as dimensoes da matriz x ao longo das colunas\n",
        "#  e da matriz y ao longo das linhas antes de realizar a soma\n",
        "x+y"
      ],
      "metadata": {
        "colab": {
          "base_uri": "https://localhost:8080/"
        },
        "id": "VBh7f55y3U9s",
        "outputId": "63ec7f2b-8325-4440-9bbc-5d189e989c6b"
      },
      "execution_count": null,
      "outputs": [
        {
          "output_type": "execute_result",
          "data": {
            "text/plain": [
              "tensor([[0, 1],\n",
              "        [1, 2],\n",
              "        [2, 3],\n",
              "        [3, 4]])"
            ]
          },
          "metadata": {},
          "execution_count": 59
        }
      ]
    },
    {
      "cell_type": "code",
      "source": [
        "x_B = torch.tensor([[0, 0], [1, 1], [2, 2], [3, 3]])\n",
        "y_B = torch.tensor([[0, 1], [0, 1], [0, 1], [0, 1]])\n",
        "x_B+y_B"
      ],
      "metadata": {
        "colab": {
          "base_uri": "https://localhost:8080/"
        },
        "id": "TAiKewOZ3lk7",
        "outputId": "6b36b387-4b57-4e8c-ecd4-2386d006cd91"
      },
      "execution_count": null,
      "outputs": [
        {
          "output_type": "execute_result",
          "data": {
            "text/plain": [
              "tensor([[0, 1],\n",
              "        [1, 2],\n",
              "        [2, 3],\n",
              "        [3, 4]])"
            ]
          },
          "metadata": {},
          "execution_count": 60
        }
      ]
    },
    {
      "cell_type": "code",
      "source": [
        "x_B.shape, y.shape"
      ],
      "metadata": {
        "colab": {
          "base_uri": "https://localhost:8080/"
        },
        "id": "Ooddezca34GT",
        "outputId": "ff4b6e7c-4f71-43a7-f8df-7f2f4183525d"
      },
      "execution_count": null,
      "outputs": [
        {
          "output_type": "execute_result",
          "data": {
            "text/plain": [
              "(torch.Size([4, 2]), torch.Size([1, 2]))"
            ]
          },
          "metadata": {},
          "execution_count": 64
        }
      ]
    },
    {
      "cell_type": "code",
      "source": [
        "x_B + y "
      ],
      "metadata": {
        "colab": {
          "base_uri": "https://localhost:8080/"
        },
        "id": "_TMiH8Z43_5A",
        "outputId": "6eb1b557-c725-45fb-a382-592dac37326f"
      },
      "execution_count": null,
      "outputs": [
        {
          "output_type": "execute_result",
          "data": {
            "text/plain": [
              "tensor([[0, 1],\n",
              "        [1, 2],\n",
              "        [2, 3],\n",
              "        [3, 4]])"
            ]
          },
          "metadata": {},
          "execution_count": 65
        }
      ]
    },
    {
      "cell_type": "markdown",
      "source": [
        "Cópias de tensores\n",
        "* cópia rasa (reuso de memória)\n",
        "* cópia profunda"
      ],
      "metadata": {
        "id": "ed6pR3Xcx_Tv"
      }
    },
    {
      "cell_type": "code",
      "source": [
        "C = torch.arange(1,11, dtype=torch.float32)\n",
        "\n",
        "id_antes = id(C)\n",
        "C = C + D # cria uma nova variavel/espaco na memoria\n",
        "\n",
        "id(C) == id_antes"
      ],
      "metadata": {
        "colab": {
          "base_uri": "https://localhost:8080/"
        },
        "id": "7VcWXuxe2wNj",
        "outputId": "1b9fa45d-5255-47a0-b64b-f3eb9ab7f176"
      },
      "execution_count": null,
      "outputs": [
        {
          "output_type": "execute_result",
          "data": {
            "text/plain": [
              "False"
            ]
          },
          "metadata": {},
          "execution_count": 68
        }
      ]
    },
    {
      "cell_type": "code",
      "source": [
        "C = torch.arange(1,11, dtype=torch.float32)\n",
        "\n",
        "id_antes = id(C)\n",
        "C[:] = C + D # reusa a memória\n",
        "\n",
        "id(C) == id_antes"
      ],
      "metadata": {
        "colab": {
          "base_uri": "https://localhost:8080/"
        },
        "id": "lHMovVSU1AS9",
        "outputId": "61116da9-7363-4a62-f60b-3f6113931185"
      },
      "execution_count": null,
      "outputs": [
        {
          "output_type": "execute_result",
          "data": {
            "text/plain": [
              "True"
            ]
          },
          "metadata": {},
          "execution_count": 69
        }
      ]
    },
    {
      "cell_type": "code",
      "source": [
        "# copia rasa\n",
        "id_antes = id(C)\n",
        "D = C # D é uma \"visao/view\" de C\n",
        "id(D) == id_antes"
      ],
      "metadata": {
        "colab": {
          "base_uri": "https://localhost:8080/"
        },
        "id": "5zQYxww4yEgH",
        "outputId": "83a24ff4-23f4-4ce5-e0c8-c88b830a214f"
      },
      "execution_count": null,
      "outputs": [
        {
          "output_type": "execute_result",
          "data": {
            "text/plain": [
              "True"
            ]
          },
          "metadata": {},
          "execution_count": 70
        }
      ]
    },
    {
      "cell_type": "code",
      "source": [
        "# copia profunda\n",
        "id_antes = id(C)\n",
        "D = C.clone() # clona C e cria nova variavel D\n",
        "id(D) == id_antes"
      ],
      "metadata": {
        "colab": {
          "base_uri": "https://localhost:8080/"
        },
        "id": "wrhY9-BN5HP8",
        "outputId": "5f323082-20be-4504-8225-fcac14eb8050"
      },
      "execution_count": null,
      "outputs": [
        {
          "output_type": "execute_result",
          "data": {
            "text/plain": [
              "False"
            ]
          },
          "metadata": {},
          "execution_count": 71
        }
      ]
    },
    {
      "cell_type": "markdown",
      "source": [
        "Vetores e Matrizes\n",
        "* definições\n",
        "* aritmética de tensores\n",
        "* redução (calcular algo ao longo de dimensoes do tensor)\n",
        "* produto interno\n",
        "* matriz-vetor\n",
        "* matriz-matriz\n",
        "* norma"
      ],
      "metadata": {
        "id": "PdvvgyviyHyG"
      }
    },
    {
      "cell_type": "code",
      "source": [
        "x = torch.arange(5, dtype=torch.float64)\n",
        "A = torch.arange(25, dtype=torch.float64).reshape((5,5))\n",
        "x, A"
      ],
      "metadata": {
        "colab": {
          "base_uri": "https://localhost:8080/"
        },
        "id": "OP_LTypcyZYp",
        "outputId": "932a2801-34cb-442a-c39a-f7bcd28570db"
      },
      "execution_count": null,
      "outputs": [
        {
          "output_type": "execute_result",
          "data": {
            "text/plain": [
              "(tensor([0., 1., 2., 3., 4.], dtype=torch.float64),\n",
              " tensor([[ 0.,  1.,  2.,  3.,  4.],\n",
              "         [ 5.,  6.,  7.,  8.,  9.],\n",
              "         [10., 11., 12., 13., 14.],\n",
              "         [15., 16., 17., 18., 19.],\n",
              "         [20., 21., 22., 23., 24.]], dtype=torch.float64))"
            ]
          },
          "metadata": {},
          "execution_count": 110
        }
      ]
    },
    {
      "cell_type": "code",
      "source": [
        "# transpor matriz/vetor\n",
        "A.T"
      ],
      "metadata": {
        "colab": {
          "base_uri": "https://localhost:8080/"
        },
        "id": "-AQqEbqL5Wf8",
        "outputId": "83570690-4c68-4d6b-efb6-4b286db0be91"
      },
      "execution_count": null,
      "outputs": [
        {
          "output_type": "execute_result",
          "data": {
            "text/plain": [
              "tensor([[ 0.,  5., 10., 15., 20.],\n",
              "        [ 1.,  6., 11., 16., 21.],\n",
              "        [ 2.,  7., 12., 17., 22.],\n",
              "        [ 3.,  8., 13., 18., 23.],\n",
              "        [ 4.,  9., 14., 19., 24.]], dtype=torch.float64)"
            ]
          },
          "metadata": {},
          "execution_count": 92
        }
      ]
    },
    {
      "cell_type": "code",
      "source": [
        "x.shape"
      ],
      "metadata": {
        "colab": {
          "base_uri": "https://localhost:8080/"
        },
        "id": "FDJZfG3l59FJ",
        "outputId": "ee25e6f1-5ea5-4c71-e6d6-886a3ff91fbc"
      },
      "execution_count": null,
      "outputs": [
        {
          "output_type": "execute_result",
          "data": {
            "text/plain": [
              "torch.Size([5])"
            ]
          },
          "metadata": {},
          "execution_count": 84
        }
      ]
    },
    {
      "cell_type": "code",
      "source": [
        "x"
      ],
      "metadata": {
        "colab": {
          "base_uri": "https://localhost:8080/"
        },
        "id": "FG_OAIHa574f",
        "outputId": "cc951912-7984-433a-c2e6-31ff9776538b"
      },
      "execution_count": null,
      "outputs": [
        {
          "output_type": "execute_result",
          "data": {
            "text/plain": [
              "tensor([0, 1, 2, 3, 4])"
            ]
          },
          "metadata": {},
          "execution_count": 83
        }
      ]
    },
    {
      "cell_type": "code",
      "source": [
        "x.reshape((1,5))"
      ],
      "metadata": {
        "colab": {
          "base_uri": "https://localhost:8080/"
        },
        "id": "TkIqWwnO53TR",
        "outputId": "b1499ac0-9d64-47de-8410-d59331643fcb"
      },
      "execution_count": null,
      "outputs": [
        {
          "output_type": "execute_result",
          "data": {
            "text/plain": [
              "tensor([[0, 1, 2, 3, 4]])"
            ]
          },
          "metadata": {},
          "execution_count": 82
        }
      ]
    },
    {
      "cell_type": "code",
      "source": [
        "x.reshape((1,5)).shape"
      ],
      "metadata": {
        "colab": {
          "base_uri": "https://localhost:8080/"
        },
        "id": "9jwusaz56ADc",
        "outputId": "2e3ab3f1-3858-47f4-f530-0c2ca6eb7f88"
      },
      "execution_count": null,
      "outputs": [
        {
          "output_type": "execute_result",
          "data": {
            "text/plain": [
              "torch.Size([1, 5])"
            ]
          },
          "metadata": {},
          "execution_count": 85
        }
      ]
    },
    {
      "cell_type": "code",
      "source": [
        "x.reshape((1,5)).T"
      ],
      "metadata": {
        "colab": {
          "base_uri": "https://localhost:8080/"
        },
        "id": "8mDys3QB5i0L",
        "outputId": "d84b1861-cf91-4cb5-a0bb-206ccd209e3b"
      },
      "execution_count": null,
      "outputs": [
        {
          "output_type": "execute_result",
          "data": {
            "text/plain": [
              "tensor([[0],\n",
              "        [1],\n",
              "        [2],\n",
              "        [3],\n",
              "        [4]])"
            ]
          },
          "metadata": {},
          "execution_count": 81
        }
      ]
    },
    {
      "cell_type": "code",
      "source": [
        "# reducao\n",
        "print(A)\n",
        "A.sum()"
      ],
      "metadata": {
        "colab": {
          "base_uri": "https://localhost:8080/"
        },
        "id": "kTsMWTT_5tkF",
        "outputId": "a18c2bab-0599-4b0c-8335-3c9c6ad59112"
      },
      "execution_count": null,
      "outputs": [
        {
          "output_type": "stream",
          "name": "stdout",
          "text": [
            "tensor([[ 0,  1,  2,  3,  4],\n",
            "        [ 5,  6,  7,  8,  9],\n",
            "        [10, 11, 12, 13, 14],\n",
            "        [15, 16, 17, 18, 19],\n",
            "        [20, 21, 22, 23, 24]])\n"
          ]
        },
        {
          "output_type": "execute_result",
          "data": {
            "text/plain": [
              "tensor(300)"
            ]
          },
          "metadata": {},
          "execution_count": 86
        }
      ]
    },
    {
      "cell_type": "code",
      "source": [
        "A.sum(axis=0)"
      ],
      "metadata": {
        "colab": {
          "base_uri": "https://localhost:8080/"
        },
        "id": "NRtl4Wnf6QOh",
        "outputId": "b1e722e0-b3b2-4bcf-acc2-789fefd53141"
      },
      "execution_count": null,
      "outputs": [
        {
          "output_type": "execute_result",
          "data": {
            "text/plain": [
              "tensor([50, 55, 60, 65, 70])"
            ]
          },
          "metadata": {},
          "execution_count": 87
        }
      ]
    },
    {
      "cell_type": "code",
      "source": [
        "A.sum(axis=1)"
      ],
      "metadata": {
        "colab": {
          "base_uri": "https://localhost:8080/"
        },
        "id": "rrPXRbTP6UKi",
        "outputId": "852ee5ea-9d8b-4b01-b6ca-e41d1910945c"
      },
      "execution_count": null,
      "outputs": [
        {
          "output_type": "execute_result",
          "data": {
            "text/plain": [
              "tensor([ 10,  35,  60,  85, 110])"
            ]
          },
          "metadata": {},
          "execution_count": 88
        }
      ]
    },
    {
      "cell_type": "code",
      "source": [
        "A.mean(axis=1)"
      ],
      "metadata": {
        "colab": {
          "base_uri": "https://localhost:8080/"
        },
        "id": "It6hDApu6aYy",
        "outputId": "6c4c7063-ce27-47b1-d5fa-22bae9d01e28"
      },
      "execution_count": null,
      "outputs": [
        {
          "output_type": "execute_result",
          "data": {
            "text/plain": [
              "tensor([ 2.,  7., 12., 17., 22.], dtype=torch.float64)"
            ]
          },
          "metadata": {},
          "execution_count": 94
        }
      ]
    },
    {
      "cell_type": "code",
      "source": [
        "A.sum() / A.numel()"
      ],
      "metadata": {
        "colab": {
          "base_uri": "https://localhost:8080/"
        },
        "id": "fXWoC4Kk6gco",
        "outputId": "3500a61a-b62b-4cae-af02-5a10da1093ae"
      },
      "execution_count": null,
      "outputs": [
        {
          "output_type": "execute_result",
          "data": {
            "text/plain": [
              "tensor(12., dtype=torch.float64)"
            ]
          },
          "metadata": {},
          "execution_count": 95
        }
      ]
    },
    {
      "cell_type": "markdown",
      "source": [
        "Produto interno\n",
        "\n",
        "$\\mathbf{x}^T\\mathbf{y} = \\sum_i x_i y_i$ "
      ],
      "metadata": {
        "id": "l9b2H9cM69KN"
      }
    },
    {
      "cell_type": "code",
      "source": [
        "# produto interno"
      ],
      "metadata": {
        "id": "azw7_Lx663I1"
      },
      "execution_count": null,
      "outputs": []
    },
    {
      "cell_type": "code",
      "source": [
        "a = torch.arange(1,6, dtype=torch.float32)\n",
        "b = torch.ones(5)*3\n",
        "a,b"
      ],
      "metadata": {
        "colab": {
          "base_uri": "https://localhost:8080/"
        },
        "id": "waO4fSFj68ED",
        "outputId": "ef93410a-5005-470e-9b2d-c758e22d0486"
      },
      "execution_count": null,
      "outputs": [
        {
          "output_type": "execute_result",
          "data": {
            "text/plain": [
              "(tensor([1., 2., 3., 4., 5.]), tensor([3., 3., 3., 3., 3.]))"
            ]
          },
          "metadata": {},
          "execution_count": 106
        }
      ]
    },
    {
      "cell_type": "code",
      "source": [
        "torch.dot(a,b)"
      ],
      "metadata": {
        "colab": {
          "base_uri": "https://localhost:8080/"
        },
        "id": "bxRGJaQc7IA6",
        "outputId": "c5e91081-d56c-4021-99c1-e7d93c0a145b"
      },
      "execution_count": null,
      "outputs": [
        {
          "output_type": "execute_result",
          "data": {
            "text/plain": [
              "tensor(45.)"
            ]
          },
          "metadata": {},
          "execution_count": 107
        }
      ]
    },
    {
      "cell_type": "code",
      "source": [
        "### multiplicacao matriz - vetor"
      ],
      "metadata": {
        "id": "TUSNoK_H7S1D"
      },
      "execution_count": null,
      "outputs": []
    },
    {
      "cell_type": "code",
      "source": [
        "A, x, torch.mv(A,x)"
      ],
      "metadata": {
        "colab": {
          "base_uri": "https://localhost:8080/"
        },
        "id": "x3PS0dgT7mYj",
        "outputId": "d893ed99-7b3b-45d3-ab3b-09dc58a1fa97"
      },
      "execution_count": null,
      "outputs": [
        {
          "output_type": "execute_result",
          "data": {
            "text/plain": [
              "(tensor([[ 0.,  1.,  2.,  3.,  4.],\n",
              "         [ 5.,  6.,  7.,  8.,  9.],\n",
              "         [10., 11., 12., 13., 14.],\n",
              "         [15., 16., 17., 18., 19.],\n",
              "         [20., 21., 22., 23., 24.]], dtype=torch.float64),\n",
              " tensor([0., 1., 2., 3., 4.], dtype=torch.float64),\n",
              " tensor([ 30.,  80., 130., 180., 230.], dtype=torch.float64))"
            ]
          },
          "metadata": {},
          "execution_count": 112
        }
      ]
    },
    {
      "cell_type": "code",
      "source": [
        "A@x"
      ],
      "metadata": {
        "colab": {
          "base_uri": "https://localhost:8080/"
        },
        "id": "ba1m_7-Q78fg",
        "outputId": "819340d5-de90-4387-cdd2-a2768213e8a7"
      },
      "execution_count": null,
      "outputs": [
        {
          "output_type": "execute_result",
          "data": {
            "text/plain": [
              "tensor([ 30.,  80., 130., 180., 230.], dtype=torch.float64)"
            ]
          },
          "metadata": {},
          "execution_count": 114
        }
      ]
    },
    {
      "cell_type": "code",
      "source": [
        "torch.mm(A,A)"
      ],
      "metadata": {
        "colab": {
          "base_uri": "https://localhost:8080/"
        },
        "id": "s_Oyf0gB7oGr",
        "outputId": "88d5b522-e951-4b3c-9f14-1dc8a7151107"
      },
      "execution_count": null,
      "outputs": [
        {
          "output_type": "execute_result",
          "data": {
            "text/plain": [
              "tensor([[ 150.,  160.,  170.,  180.,  190.],\n",
              "        [ 400.,  435.,  470.,  505.,  540.],\n",
              "        [ 650.,  710.,  770.,  830.,  890.],\n",
              "        [ 900.,  985., 1070., 1155., 1240.],\n",
              "        [1150., 1260., 1370., 1480., 1590.]], dtype=torch.float64)"
            ]
          },
          "metadata": {},
          "execution_count": 113
        }
      ]
    },
    {
      "cell_type": "code",
      "source": [
        "A@A"
      ],
      "metadata": {
        "colab": {
          "base_uri": "https://localhost:8080/"
        },
        "id": "VfJIKMQT746t",
        "outputId": "409b0aec-4a47-4bdc-8e54-15b08b372638"
      },
      "execution_count": null,
      "outputs": [
        {
          "output_type": "execute_result",
          "data": {
            "text/plain": [
              "tensor([[ 150.,  160.,  170.,  180.,  190.],\n",
              "        [ 400.,  435.,  470.,  505.,  540.],\n",
              "        [ 650.,  710.,  770.,  830.,  890.],\n",
              "        [ 900.,  985., 1070., 1155., 1240.],\n",
              "        [1150., 1260., 1370., 1480., 1590.]], dtype=torch.float64)"
            ]
          },
          "metadata": {},
          "execution_count": 115
        }
      ]
    },
    {
      "cell_type": "code",
      "source": [
        "A@y"
      ],
      "metadata": {
        "colab": {
          "base_uri": "https://localhost:8080/",
          "height": 169
        },
        "id": "mDExv6M87_Jm",
        "outputId": "8f86b1e4-8998-49c5-debb-7c39a9428f49"
      },
      "execution_count": null,
      "outputs": [
        {
          "output_type": "error",
          "ename": "RuntimeError",
          "evalue": "ignored",
          "traceback": [
            "\u001b[0;31m---------------------------------------------------------------------------\u001b[0m",
            "\u001b[0;31mRuntimeError\u001b[0m                              Traceback (most recent call last)",
            "\u001b[0;32m<ipython-input-117-3bede0fb67f4>\u001b[0m in \u001b[0;36m<module>\u001b[0;34m\u001b[0m\n\u001b[0;32m----> 1\u001b[0;31m \u001b[0mA\u001b[0m\u001b[0;34m@\u001b[0m\u001b[0my\u001b[0m\u001b[0;34m\u001b[0m\u001b[0;34m\u001b[0m\u001b[0m\n\u001b[0m",
            "\u001b[0;31mRuntimeError\u001b[0m: mat1 and mat2 shapes cannot be multiplied (5x5 and 1x2)"
          ]
        }
      ]
    },
    {
      "cell_type": "code",
      "source": [
        "# norma de um tensor - norma Euclidiana ou norma L2\n",
        "# raiz quadrada da soma dos quadrados\n",
        "# exp. com 2 elementos: sqrt(x_1^2 + x_2^2)"
      ],
      "metadata": {
        "id": "bERSc-lC8Cnw"
      },
      "execution_count": null,
      "outputs": []
    },
    {
      "cell_type": "code",
      "source": [
        "x"
      ],
      "metadata": {
        "id": "0TnvLqaX8b1g",
        "outputId": "d01c67d6-2563-4fb5-848b-de4d9597d49d",
        "colab": {
          "base_uri": "https://localhost:8080/"
        }
      },
      "execution_count": null,
      "outputs": [
        {
          "output_type": "execute_result",
          "data": {
            "text/plain": [
              "tensor([0., 1., 2., 3., 4.], dtype=torch.float64)"
            ]
          },
          "metadata": {},
          "execution_count": 120
        }
      ]
    },
    {
      "cell_type": "code",
      "source": [
        "torch.norm(x)"
      ],
      "metadata": {
        "id": "xSL9oYit8ZlW",
        "outputId": "d2168262-4b07-4ee2-a651-7d7e1cc5ae6e",
        "colab": {
          "base_uri": "https://localhost:8080/"
        }
      },
      "execution_count": null,
      "outputs": [
        {
          "output_type": "execute_result",
          "data": {
            "text/plain": [
              "tensor(5.4772, dtype=torch.float64)"
            ]
          },
          "metadata": {},
          "execution_count": 119
        }
      ]
    },
    {
      "cell_type": "code",
      "source": [],
      "metadata": {
        "id": "VJCeC1JC8a4O"
      },
      "execution_count": null,
      "outputs": []
    }
  ]
}