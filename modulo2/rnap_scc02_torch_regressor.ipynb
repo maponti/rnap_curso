{
  "nbformat": 4,
  "nbformat_minor": 0,
  "metadata": {
    "colab": {
      "provenance": [],
      "collapsed_sections": []
    },
    "kernelspec": {
      "name": "python3",
      "display_name": "Python 3"
    },
    "language_info": {
      "name": "python"
    }
  },
  "cells": [
    {
      "cell_type": "markdown",
      "source": [
        "## Redes Neurais e Aprendizado Profundo\n",
        "\n",
        "#### Modelo linear em Pytorch\n",
        "\n",
        "Moacir A Ponti - 2022"
      ],
      "metadata": {
        "id": "CZIEfmucjP3Y"
      }
    },
    {
      "cell_type": "code",
      "execution_count": null,
      "metadata": {
        "id": "rkn2S36bQwLL"
      },
      "outputs": [],
      "source": [
        "import torch\n",
        "from torch.utils.data import DataLoader"
      ]
    },
    {
      "cell_type": "code",
      "source": [
        "class Model():\n",
        "\n",
        "    # construtor inicializa os parametros\n",
        "    def __init__(self, num_inputs):\n",
        "      # w - amostrando de uma distribuicao normal media 0 e desvio padrao 1\n",
        "      self.w = torch.normal(0, 1, (num_inputs, 1), requires_grad=True)\n",
        "      # b - com valor constante 1 ou 0 ou as vezes 1/total de classes\n",
        "      self.b = torch.zeros(1, requires_grad=True)\n",
        "   \n",
        "    # forward -> processa uma entrada X até a saída\n",
        "    def forward(self, X):\n",
        "      # linear(Xw + b)\n",
        "      return X@self.w + self.b\n",
        "\n",
        "    def loss(self, y, y_hat):\n",
        "      # perda quadratica\n",
        "      l = (y_hat - y.reshape(y_hat.shape))**2 / 2 \n",
        "      return l.mean()\n"
      ],
      "metadata": {
        "id": "QeguyG6xQ5aN"
      },
      "execution_count": null,
      "outputs": []
    },
    {
      "cell_type": "code",
      "source": [
        "# modelo linear \n",
        "my_model = Model(2)"
      ],
      "metadata": {
        "id": "073H9s2tRJvS"
      },
      "execution_count": null,
      "outputs": []
    },
    {
      "cell_type": "code",
      "source": [
        "my_model.w, my_model.b"
      ],
      "metadata": {
        "colab": {
          "base_uri": "https://localhost:8080/"
        },
        "id": "sEO8DA8iSGYm",
        "outputId": "dc10021d-81ab-482a-b2e9-b3dd526541ac"
      },
      "execution_count": null,
      "outputs": [
        {
          "output_type": "execute_result",
          "data": {
            "text/plain": [
              "(tensor([[0.7353],\n",
              "         [0.8808]], requires_grad=True), tensor([0.], requires_grad=True))"
            ]
          },
          "metadata": {},
          "execution_count": 33
        }
      ]
    },
    {
      "cell_type": "code",
      "source": [
        "my_model.forward(torch.tensor([[1,1]], dtype=torch.float32))"
      ],
      "metadata": {
        "colab": {
          "base_uri": "https://localhost:8080/"
        },
        "id": "wiiAMFBPSLJJ",
        "outputId": "47adaaba-4c31-405b-cb74-6c12ae57ad8e"
      },
      "execution_count": null,
      "outputs": [
        {
          "output_type": "execute_result",
          "data": {
            "text/plain": [
              "tensor([[2.6366]])"
            ]
          },
          "metadata": {},
          "execution_count": 24
        }
      ]
    },
    {
      "cell_type": "code",
      "source": [
        "# regressao\n",
        "X = torch.arange(16, dtype=torch.float32).reshape((8,2)) + torch.normal(0,0.5, (8,2))\n",
        "y = torch.arange(8, dtype=torch.float32)\n",
        "X, y "
      ],
      "metadata": {
        "colab": {
          "base_uri": "https://localhost:8080/"
        },
        "id": "efsX8zIsSlOU",
        "outputId": "e6466f50-4e8e-445b-8f25-9ae93d84009e"
      },
      "execution_count": null,
      "outputs": [
        {
          "output_type": "execute_result",
          "data": {
            "text/plain": [
              "(tensor([[ 0.4577,  1.0293],\n",
              "         [ 2.0885,  3.6218],\n",
              "         [ 4.3514,  4.2855],\n",
              "         [ 5.2740,  6.8023],\n",
              "         [ 7.1706,  8.1242],\n",
              "         [10.4427, 11.6639],\n",
              "         [11.5103, 13.1557],\n",
              "         [14.2401, 14.4406]]), tensor([0., 1., 2., 3., 4., 5., 6., 7.]))"
            ]
          },
          "metadata": {},
          "execution_count": 25
        }
      ]
    },
    {
      "cell_type": "code",
      "source": [
        "my_model.forward(X), y"
      ],
      "metadata": {
        "colab": {
          "base_uri": "https://localhost:8080/"
        },
        "id": "pcsGbHAbTIfN",
        "outputId": "317a0a53-d83c-4e22-e7a3-ae6e5caedf56"
      },
      "execution_count": null,
      "outputs": [
        {
          "output_type": "execute_result",
          "data": {
            "text/plain": [
              "(tensor([[ 1.2431],\n",
              "         [ 4.7256],\n",
              "         [ 6.9740],\n",
              "         [ 9.8691],\n",
              "         [12.4279],\n",
              "         [17.9514],\n",
              "         [20.0502],\n",
              "         [23.1891]], grad_fn=<AddBackward0>),\n",
              " tensor([0., 1., 2., 3., 4., 5., 6., 7.]))"
            ]
          },
          "metadata": {},
          "execution_count": 34
        }
      ]
    },
    {
      "cell_type": "code",
      "source": [
        "y_hat = my_model.forward(X)\n",
        "## loss!!!\n",
        "my_model.loss(y, y_hat)"
      ],
      "metadata": {
        "colab": {
          "base_uri": "https://localhost:8080/"
        },
        "id": "wgKRlJN3TtXi",
        "outputId": "213abf7f-6211-42ee-d2f7-806c175d9ec7"
      },
      "execution_count": null,
      "outputs": [
        {
          "output_type": "execute_result",
          "data": {
            "text/plain": [
              "tensor(49.1009, grad_fn=<MeanBackward0>)"
            ]
          },
          "metadata": {},
          "execution_count": 35
        }
      ]
    },
    {
      "cell_type": "code",
      "source": [],
      "metadata": {
        "id": "sxKytGzzUKyC"
      },
      "execution_count": null,
      "outputs": []
    }
  ]
}