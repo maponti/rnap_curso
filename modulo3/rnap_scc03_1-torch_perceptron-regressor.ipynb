{
 "cells": [
  {
   "cell_type": "markdown",
   "metadata": {
    "id": "PUAM_9PADqtJ"
   },
   "source": [
    "## Redes Neurais e Aprendizado Profundo\n",
    "\n",
    "#### Perceptron em Pytorch\n",
    "#### - Regressão\n",
    "#### - Forward pass\n",
    "#### - Treinamento com Backpropagation/Gradient Descent\n",
    "\n",
    "\n",
    "Moacir A Ponti - 2022"
   ]
  },
  {
   "cell_type": "code",
   "execution_count": null,
   "metadata": {
    "id": "UN6bkqNEDg9m"
   },
   "outputs": [],
   "source": [
    "import torch\n",
    "import numpy as np"
   ]
  },
  {
   "cell_type": "code",
   "execution_count": null,
   "metadata": {
    "id": "PfFcE9kgEA_L"
   },
   "outputs": [],
   "source": [
    "class Perceptron():\n",
    "  \n",
    "    def __init__(self, num_inputs, lr=0.01):\n",
    "      self.w = torch.normal(0,1, (num_inputs,1), requires_grad=True)\n",
    "      self.b = torch.zeros(1, requires_grad=True)\n",
    "      self.num_inputs = num_inputs\n",
    "      self.lr = lr\n",
    "\n",
    "    def activation_relu(self, x):\n",
    "      a = torch.zeros_like(x)\n",
    "      return torch.max(x, a)\n",
    "    \n",
    "    def forward(self, X):\n",
    "      linear = X@self.w + self.b\n",
    "      return self.activation_relu(linear)\n",
    "\n",
    "    def squared_loss(self, y, y_hat):\n",
    "      l = (y.reshape(y_hat.shape) - y_hat)**2\n",
    "      return l.mean()\n",
    "\n",
    "    def backward(self, X, y):\n",
    "      y_hat = self.forward(X) # forward pass\n",
    "      errors = (y.reshape(y_hat.shape) - y_hat) # differentiate\n",
    "      return errors\n",
    "\n",
    "    def train_step(self, X, y):\n",
    "      for i in range(y.shape[0]):\n",
    "        error = self.backward(X[i].reshape(1, self.num_inputs), y[i]).reshape(-1)\n",
    "        # gradient descent\n",
    "        self.w = self.w + self.lr*(error*X[i]).reshape(self.num_inputs,1)\n",
    "        self.b = self.b + self.lr*error\n"
   ]
  },
  {
   "cell_type": "code",
   "execution_count": null,
   "metadata": {
    "colab": {
     "base_uri": "https://localhost:8080/"
    },
    "id": "zNe0GC34HdXb",
    "outputId": "345e8839-3e0d-45bd-aedc-658648ed9f6d"
   },
   "outputs": [
    {
     "data": {
      "text/plain": [
       "(tensor([[-0.0549],\n",
       "         [ 1.1521],\n",
       "         [ 0.0850]], requires_grad=True),\n",
       " tensor([0.], requires_grad=True),\n",
       " 0.002)"
      ]
     },
     "execution_count": 80,
     "metadata": {},
     "output_type": "execute_result"
    }
   ],
   "source": [
    "model = Perceptron(3, lr=0.002)\n",
    "model.w, model.b, model.lr"
   ]
  },
  {
   "cell_type": "code",
   "execution_count": null,
   "metadata": {
    "colab": {
     "base_uri": "https://localhost:8080/"
    },
    "id": "-_KnJ4aBHkGO",
    "outputId": "80f93f28-c92b-4c33-cde0-d35b13a86174"
   },
   "outputs": [
    {
     "name": "stdout",
     "output_type": "stream",
     "text": [
      "tensor([[ 0.1375, -0.3193,  1.4472],\n",
      "        [ 3.4927,  0.9926,  7.5517],\n",
      "        [ 5.5432,  5.2225,  7.3877],\n",
      "        [13.0063, 13.8235, 10.6459],\n",
      "        [12.2655, 13.7464,  9.5232],\n",
      "        [12.6202, 15.0687, 20.2580],\n",
      "        [19.0621, 19.7397, 20.9215],\n",
      "        [20.7848, 20.2596, 25.4952],\n",
      "        [22.3901, 23.9016, 27.7338],\n",
      "        [25.7819, 30.7584, 30.1549]])\n",
      "tensor([0., 1., 2., 3., 4., 5., 6., 7., 8., 9.])\n"
     ]
    }
   ],
   "source": [
    "# X : 3 dimensoes por instancia\n",
    "X = torch.arange(30, dtype=torch.float32).reshape((10,3)) + torch.normal(0, 2, (10,3))\n",
    "print(X)\n",
    "y = torch.arange(10, dtype=torch.float32)\n",
    "print(y)"
   ]
  },
  {
   "cell_type": "code",
   "execution_count": null,
   "metadata": {
    "colab": {
     "base_uri": "https://localhost:8080/"
    },
    "id": "du9_W-BsH4OR",
    "outputId": "f223b22a-57e3-42a3-8486-e41b56b7590e"
   },
   "outputs": [
    {
     "data": {
      "text/plain": [
       "(tensor([[ 0.0000],\n",
       "         [ 1.5935],\n",
       "         [ 6.3405],\n",
       "         [16.1172],\n",
       "         [15.9737],\n",
       "         [18.3897],\n",
       "         [23.4741],\n",
       "         [24.3672],\n",
       "         [28.6653],\n",
       "         [36.5848]], grad_fn=<MaximumBackward0>),\n",
       " tensor([0., 1., 2., 3., 4., 5., 6., 7., 8., 9.]))"
      ]
     },
     "execution_count": 81,
     "metadata": {},
     "output_type": "execute_result"
    }
   ],
   "source": [
    "model.forward(X),  y"
   ]
  },
  {
   "cell_type": "code",
   "execution_count": null,
   "metadata": {
    "colab": {
     "base_uri": "https://localhost:8080/"
    },
    "id": "SqtJnCbCIU0x",
    "outputId": "694df23b-5de5-4e63-d832-8cd9590f4014"
   },
   "outputs": [
    {
     "data": {
      "text/plain": [
       "tensor(230.8841, grad_fn=<MeanBackward0>)"
      ]
     },
     "execution_count": 82,
     "metadata": {},
     "output_type": "execute_result"
    }
   ],
   "source": [
    "model.squared_loss(y, model.forward(X))"
   ]
  },
  {
   "cell_type": "code",
   "execution_count": null,
   "metadata": {
    "colab": {
     "base_uri": "https://localhost:8080/"
    },
    "id": "2Amrk0-dIK1-",
    "outputId": "8ede6379-002d-43f8-ec90-0da7f96e0efa"
   },
   "outputs": [
    {
     "name": "stdout",
     "output_type": "stream",
     "text": [
      "Parameters: tensor([[-0.7926],\n",
      "        [ 1.0266],\n",
      "        [ 0.3599]], grad_fn=<AddBackward0>) tensor([-0.0278], grad_fn=<AddBackward0>)\n",
      "Squared Loss: tensor(20.6231, grad_fn=<MeanBackward0>)\n"
     ]
    }
   ],
   "source": [
    "model.train_step(X, y)\n",
    "print('Parameters:', model.w, model.b)\n",
    "print('Squared Loss:', model.squared_loss(y, model.forward(X)))"
   ]
  },
  {
   "cell_type": "code",
   "execution_count": null,
   "metadata": {
    "colab": {
     "base_uri": "https://localhost:8080/"
    },
    "id": "9gV42tI4Ixq_",
    "outputId": "9477d447-0ace-46e3-f1de-feebeef6184c"
   },
   "outputs": [
    {
     "name": "stdout",
     "output_type": "stream",
     "text": [
      "Epoch: 0\n",
      "Parameters: [[-0.33239046]\n",
      " [ 0.9138653 ]\n",
      " [-0.14526576]] -0.02955181710422039\n",
      "Squared Loss: 7.774010\n",
      "Epoch: 20\n",
      "Parameters: [[-0.6971568 ]\n",
      " [ 0.7889745 ]\n",
      " [-0.04901513]] -0.07609856873750687\n",
      "Squared Loss: 14.832491\n",
      "Epoch: 40\n",
      "Parameters: [[-0.55963314]\n",
      " [ 0.64953756]\n",
      " [-0.02716886]] 0.052946191281080246\n",
      "Squared Loss: 12.579431\n",
      "Epoch: 60\n",
      "Parameters: [[-0.42734832]\n",
      " [ 0.51906174]\n",
      " [-0.00488682]] 0.16958719491958618\n",
      "Squared Loss: 10.065763\n",
      "Epoch: 80\n",
      "Parameters: [[-0.3011292 ]\n",
      " [ 0.39930713]\n",
      " [ 0.0180102 ]] 0.2718864679336548\n",
      "Squared Loss: 7.402274\n"
     ]
    }
   ],
   "source": [
    "epochs = 100\n",
    "for e in range(epochs):\n",
    "  model.train_step(X, y)\n",
    "  if e % 20 == 0:\n",
    "    print(f'Epoch: {e}')\n",
    "    print('Parameters:', model.w.detach().numpy(), model.b.item())\n",
    "    print(f'Squared Loss: {model.squared_loss(y, model.forward(X)).item():.6f}')"
   ]
  },
  {
   "cell_type": "code",
   "execution_count": null,
   "metadata": {
    "colab": {
     "base_uri": "https://localhost:8080/"
    },
    "id": "IWtK5bXsK-GU",
    "outputId": "79ac741c-0a65-49c6-a811-73ec05f6e81a"
   },
   "outputs": [
    {
     "data": {
      "text/plain": [
       "(tensor([[0.2972],\n",
       "         [0.5364],\n",
       "         [1.6211],\n",
       "         [3.4665],\n",
       "         [3.5012],\n",
       "         [4.5678],\n",
       "         [5.0760],\n",
       "         [5.2361],\n",
       "         [6.3479],\n",
       "         [8.2627]], grad_fn=<MaximumBackward0>),\n",
       " tensor([0., 1., 2., 3., 4., 5., 6., 7., 8., 9.]))"
      ]
     },
     "execution_count": 84,
     "metadata": {},
     "output_type": "execute_result"
    }
   ],
   "source": [
    "model.forward(X),  y"
   ]
  },
  {
   "cell_type": "code",
   "execution_count": null,
   "metadata": {
    "colab": {
     "base_uri": "https://localhost:8080/"
    },
    "id": "26jGzkUhLVmj",
    "outputId": "7fc25103-4272-44ee-a0d6-a577966df70b"
   },
   "outputs": [
    {
     "name": "stdout",
     "output_type": "stream",
     "text": [
      "tensor([[-1.0989,  0.3473, -0.3783],\n",
      "        [ 5.7723,  3.5411,  3.8471],\n",
      "        [ 6.3507,  4.9092, 15.2436],\n",
      "        [ 8.9827,  8.8932, 11.1259],\n",
      "        [13.8262, 14.7092, 13.9638]])\n",
      "tensor([0., 1., 2., 3., 4.])\n"
     ]
    }
   ],
   "source": [
    "X_t = torch.arange(15, dtype=torch.float32).reshape((5,3)) + torch.normal(0, 3, (5,3))\n",
    "print(X_t)\n",
    "y_t = torch.arange(5, dtype=torch.float32)\n",
    "print(y_t)"
   ]
  },
  {
   "cell_type": "code",
   "execution_count": null,
   "metadata": {
    "colab": {
     "base_uri": "https://localhost:8080/"
    },
    "id": "k8uW-7cwMyfl",
    "outputId": "1e3614ca-00eb-4aed-9a2c-9b13f1242310"
   },
   "outputs": [
    {
     "data": {
      "text/plain": [
       "(tensor([[0.6325],\n",
       "         [0.7781],\n",
       "         [1.8623],\n",
       "         [2.5107],\n",
       "         [3.8345]], grad_fn=<MaximumBackward0>), tensor([0., 1., 2., 3., 4.]))"
      ]
     },
     "execution_count": 86,
     "metadata": {},
     "output_type": "execute_result"
    }
   ],
   "source": [
    "model.forward(X_t),  y_t"
   ]
  },
  {
   "cell_type": "code",
   "execution_count": null,
   "metadata": {
    "colab": {
     "base_uri": "https://localhost:8080/"
    },
    "id": "gstXgADKM1ph",
    "outputId": "5b5e7a71-b7bd-44c7-dac2-e927007169b9"
   },
   "outputs": [
    {
     "data": {
      "text/plain": [
       "tensor(0.1470, grad_fn=<MeanBackward0>)"
      ]
     },
     "execution_count": 89,
     "metadata": {},
     "output_type": "execute_result"
    }
   ],
   "source": [
    "model.squared_loss(y_t, model.forward(X_t))"
   ]
  },
  {
   "cell_type": "code",
   "execution_count": null,
   "metadata": {
    "id": "Dzm1dRrQM5BH"
   },
   "outputs": [],
   "source": []
  }
 ],
 "metadata": {
  "colab": {
   "provenance": []
  },
  "kernelspec": {
   "display_name": "Python 3 (ipykernel)",
   "language": "python",
   "name": "python3"
  },
  "language_info": {
   "codemirror_mode": {
    "name": "ipython",
    "version": 3
   },
   "file_extension": ".py",
   "mimetype": "text/x-python",
   "name": "python",
   "nbconvert_exporter": "python",
   "pygments_lexer": "ipython3",
   "version": "3.11.3"
  }
 },
 "nbformat": 4,
 "nbformat_minor": 4
}
