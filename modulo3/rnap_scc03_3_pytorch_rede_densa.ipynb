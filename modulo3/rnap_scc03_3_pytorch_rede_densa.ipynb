{
  "nbformat": 4,
  "nbformat_minor": 0,
  "metadata": {
    "colab": {
      "provenance": []
    },
    "kernelspec": {
      "name": "python3",
      "display_name": "Python 3"
    },
    "language_info": {
      "name": "python"
    }
  },
  "cells": [
    {
      "cell_type": "markdown",
      "source": [
        "## Redes Neurais e Aprendizado Profundo\n",
        "\n",
        "#### Redes Densas em pytorch e detalhes:\n",
        "##### - camadas pré-implementadas\n",
        "##### - opções para acessar parametros\n",
        "##### - uso do gradiente\n",
        "##### - backpropagation e algoritmos de otimização\n",
        "\n",
        "Moacir A Ponti - 2022"
      ],
      "metadata": {
        "id": "zj_WLqHJVmhw"
      }
    },
    {
      "cell_type": "code",
      "execution_count": null,
      "metadata": {
        "id": "jA6zOpcoVlP4"
      },
      "outputs": [],
      "source": [
        "import torch\n",
        "import torch.nn as nn\n",
        "import torch.nn.functional as F"
      ]
    },
    {
      "cell_type": "markdown",
      "source": [
        "Devemos definir a função `forward` e `backward` (onde os gradientes são computados) é definida usando o autograd. Podemos usar qualquer operador de tensor na função `forward`"
      ],
      "metadata": {
        "id": "t1PzLy64WGrT"
      }
    },
    {
      "cell_type": "code",
      "source": [
        "class Network(nn.Module):\n",
        "\n",
        "  def __init__(self):\n",
        "    # fazer a inicializacao conforme a superclasse nn.Module\n",
        "    super(Network, self).__init__()\n",
        "    # cria o projeto da rede neural\n",
        "    # imagens de 28x28 pixels = 784 valores\n",
        "    # saída da rede = 10 classes\n",
        "    self.fc1 = nn.Linear(784, 32)\n",
        "    self.fc2 = nn.Linear(32, 10)\n",
        "\n",
        "  def forward(self, x):\n",
        "    # imagem 28x28 pixels -> nao funciona em camada densa (1d)\n",
        "    # recebe minibatches\n",
        "    x = torch.flatten(x, 1) # achata dimensoes menos a dos batches\n",
        "    x = F.relu(self.fc1(x)) # camada densa + relu\n",
        "    x = self.fc2(x) # camada densa linear\n",
        "    return x\n"
      ],
      "metadata": {
        "id": "hWM5zsXIV7Hs"
      },
      "execution_count": null,
      "outputs": []
    },
    {
      "cell_type": "code",
      "source": [
        "net = Network()\n",
        "print(net)"
      ],
      "metadata": {
        "colab": {
          "base_uri": "https://localhost:8080/"
        },
        "id": "hUJE3fRLYnkn",
        "outputId": "7964a765-43f1-4a96-f0db-e7458dc78bc1"
      },
      "execution_count": null,
      "outputs": [
        {
          "output_type": "stream",
          "name": "stdout",
          "text": [
            "Network(\n",
            "  (fc1): Linear(in_features=784, out_features=32, bias=True)\n",
            "  (fc2): Linear(in_features=32, out_features=10, bias=True)\n",
            ")\n"
          ]
        }
      ]
    },
    {
      "cell_type": "code",
      "source": [
        "input_random = torch.randn(1, 1, 28, 28)\n",
        "print(input_random.shape)\n",
        "output = net(input_random)\n",
        "print(output)"
      ],
      "metadata": {
        "colab": {
          "base_uri": "https://localhost:8080/"
        },
        "id": "FoDRD-77Ypgb",
        "outputId": "65c86b28-8e89-4cf9-d7cd-03e7b13bb1f1"
      },
      "execution_count": null,
      "outputs": [
        {
          "output_type": "stream",
          "name": "stdout",
          "text": [
            "torch.Size([1, 1, 28, 28])\n",
            "tensor([[-0.0229, -0.0728,  0.2644, -0.1998,  0.0665,  0.4571,  0.0812,  0.0353,\n",
            "         -0.2039, -0.5764]], grad_fn=<AddmmBackward0>)\n"
          ]
        }
      ]
    },
    {
      "cell_type": "markdown",
      "source": [
        "É possível acessar os parametros da rede"
      ],
      "metadata": {
        "id": "2pvABHCcZNYT"
      }
    },
    {
      "cell_type": "code",
      "source": [
        "params = list(net.parameters())\n",
        "print(len(params))\n",
        "# primeira camada:\n",
        "print(params[0].size())"
      ],
      "metadata": {
        "colab": {
          "base_uri": "https://localhost:8080/"
        },
        "id": "lf8gWiUgY48C",
        "outputId": "f9c4611b-7844-482a-c8a1-8fe68b3a161d"
      },
      "execution_count": null,
      "outputs": [
        {
          "output_type": "stream",
          "name": "stdout",
          "text": [
            "4\n",
            "torch.Size([32, 784])\n"
          ]
        }
      ]
    },
    {
      "cell_type": "markdown",
      "source": [
        "Backpropagation: `backward`"
      ],
      "metadata": {
        "id": "q5kqAZ6qZmUs"
      }
    },
    {
      "cell_type": "code",
      "source": [
        "# zerar o buffer de gradientes\n",
        "net.zero_grad()\n",
        "output.backward(torch.randn(1,10))"
      ],
      "metadata": {
        "id": "8Ji052pfZXNl"
      },
      "execution_count": null,
      "outputs": []
    },
    {
      "cell_type": "code",
      "source": [
        "output = net(input_random)\n",
        "target = torch.randn(10) # target aleatorio como exemplo\n",
        "print(target)\n",
        "target = target.view(1, -1)\n",
        "print(target)\n",
        "\n",
        "criterion = nn.MSELoss() # mean squared error\n",
        "loss = criterion(output, target)\n",
        "print(loss)"
      ],
      "metadata": {
        "colab": {
          "base_uri": "https://localhost:8080/"
        },
        "id": "6vwEORlWZ4LB",
        "outputId": "56a3d093-1eb9-40ef-fd8c-a74862e3b856"
      },
      "execution_count": null,
      "outputs": [
        {
          "output_type": "stream",
          "name": "stdout",
          "text": [
            "tensor([ 2.0284, -0.4078, -0.2471,  0.2618, -1.1634,  1.4772,  0.5466, -1.1262,\n",
            "         0.7802,  2.1103])\n",
            "tensor([[ 2.0284, -0.4078, -0.2471,  0.2618, -1.1634,  1.4772,  0.5466, -1.1262,\n",
            "          0.7802,  2.1103]])\n",
            "tensor(1.7101, grad_fn=<MseLossBackward0>)\n"
          ]
        }
      ]
    },
    {
      "cell_type": "code",
      "source": [
        "print(loss.grad_fn)\n",
        "print(loss.grad_fn.next_functions[0][0]) # funcao linear\n",
        "print(loss.grad_fn.next_functions[0][0].next_functions[0][0]) # relu"
      ],
      "metadata": {
        "colab": {
          "base_uri": "https://localhost:8080/"
        },
        "id": "keUICccpaOyI",
        "outputId": "f811cf77-6012-4068-afe6-9c07cd2f1723"
      },
      "execution_count": null,
      "outputs": [
        {
          "output_type": "stream",
          "name": "stdout",
          "text": [
            "<MseLossBackward0 object at 0x7f46ef2b6450>\n",
            "<AddmmBackward0 object at 0x7f46ef2b64d0>\n",
            "<AccumulateGrad object at 0x7f46ef2b6450>\n"
          ]
        }
      ]
    },
    {
      "cell_type": "markdown",
      "source": [
        "Backpropagation com `backward`"
      ],
      "metadata": {
        "id": "gL9VncDsbHJW"
      }
    },
    {
      "cell_type": "code",
      "source": [
        "net.zero_grad()\n",
        "\n",
        "print('antes')\n",
        "print(net.fc1.bias.grad)\n",
        "\n",
        "loss.backward()\n",
        "print('depois')\n",
        "print(net.fc1.bias.grad)\n"
      ],
      "metadata": {
        "colab": {
          "base_uri": "https://localhost:8080/"
        },
        "id": "dVbevt_TaydZ",
        "outputId": "d30806ee-2b69-486a-8022-3f800ac2342a"
      },
      "execution_count": null,
      "outputs": [
        {
          "output_type": "stream",
          "name": "stdout",
          "text": [
            "antes\n",
            "tensor([0., 0., 0., 0., 0., 0., 0., 0., 0., 0., 0., 0., 0., 0., 0., 0., 0., 0., 0., 0., 0., 0., 0., 0.,\n",
            "        0., 0., 0., 0., 0., 0., 0., 0.])\n",
            "depois\n",
            "tensor([-0.0697,  0.0000,  0.0000,  0.0780,  0.0607,  0.0000,  0.0777, -0.1289,\n",
            "         0.0000,  0.0000,  0.0000,  0.1562,  0.0147, -0.1293,  0.0000,  0.1269,\n",
            "         0.0000,  0.0000,  0.0420,  0.1020,  0.0048,  0.0000,  0.0000,  0.0000,\n",
            "         0.0000, -0.0815, -0.0008,  0.0000,  0.0000,  0.0000, -0.0559,  0.0492])\n"
          ]
        }
      ]
    },
    {
      "cell_type": "markdown",
      "source": [
        "Adptacao dos parametros da rede\n",
        "\n",
        "- otimizador: SGD, Adam, etc."
      ],
      "metadata": {
        "id": "oAEAWNyfbf4x"
      }
    },
    {
      "cell_type": "code",
      "source": [
        "print(params[0][0][:10])"
      ],
      "metadata": {
        "colab": {
          "base_uri": "https://localhost:8080/"
        },
        "id": "4KhR2pY7cGcr",
        "outputId": "9ae6987f-ce6f-4b32-91d3-41f2979cc3be"
      },
      "execution_count": null,
      "outputs": [
        {
          "output_type": "stream",
          "name": "stdout",
          "text": [
            "tensor([-0.0319,  0.0181,  0.0137,  0.0292, -0.0176,  0.0059, -0.0271,  0.0273,\n",
            "         0.0109, -0.0266], grad_fn=<SliceBackward0>)\n"
          ]
        }
      ]
    },
    {
      "cell_type": "code",
      "source": [
        "import torch.optim as optim\n",
        "\n",
        "# cria o objeto otimizador\n",
        "optimizer = optim.SGD(net.parameters(), lr=0.01)\n",
        "\n",
        "# para cada loop de treinamento\n",
        "\n",
        "## zerar o buffer de gradientes\n",
        "optimizer.zero_grad()\n",
        "## gerar a saída e computar gradientes com relacao à funcao de perda\n",
        "output = net(input_random)\n",
        "loss = criterion(output, target)\n",
        "loss.backward()\n",
        "## realizar a adaptacao dos pesos\n",
        "optimizer.step()"
      ],
      "metadata": {
        "id": "s_gMwSlKbYGl"
      },
      "execution_count": null,
      "outputs": []
    },
    {
      "cell_type": "code",
      "source": [
        "print(params[0][0][:10])"
      ],
      "metadata": {
        "colab": {
          "base_uri": "https://localhost:8080/"
        },
        "id": "CQ86oKEQcMdl",
        "outputId": "fab326e6-9975-432e-a7b1-4485b63a294e"
      },
      "execution_count": null,
      "outputs": [
        {
          "output_type": "stream",
          "name": "stdout",
          "text": [
            "tensor([-0.0324,  0.0183,  0.0137,  0.0284, -0.0184,  0.0057, -0.0280,  0.0260,\n",
            "         0.0111, -0.0272], grad_fn=<SliceBackward0>)\n"
          ]
        }
      ]
    },
    {
      "cell_type": "code",
      "source": [],
      "metadata": {
        "id": "ymTMpJfWcNU9"
      },
      "execution_count": null,
      "outputs": []
    }
  ]
}